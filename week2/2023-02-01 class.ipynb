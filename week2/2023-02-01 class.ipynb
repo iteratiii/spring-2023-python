{
 "cells": [
  {
   "cell_type": "code",
   "execution_count": null,
   "id": "a963530d",
   "metadata": {},
   "outputs": [],
   "source": [
    "# heading 1"
   ]
  },
  {
   "cell_type": "code",
   "execution_count": 4,
   "id": "01dd6ef5",
   "metadata": {},
   "outputs": [
    {
     "data": {
      "text/plain": [
       "2"
      ]
     },
     "execution_count": 4,
     "metadata": {},
     "output_type": "execute_result"
    }
   ],
   "source": [
    "1+1"
   ]
  },
  {
   "cell_type": "code",
   "execution_count": 8,
   "id": "0b906aa1",
   "metadata": {},
   "outputs": [
    {
     "data": {
      "text/plain": [
       "0"
      ]
     },
     "execution_count": 8,
     "metadata": {},
     "output_type": "execute_result"
    }
   ],
   "source": [
    "1-1"
   ]
  },
  {
   "cell_type": "code",
   "execution_count": 10,
   "id": "422c0da5",
   "metadata": {},
   "outputs": [
    {
     "data": {
      "text/plain": [
       "2"
      ]
     },
     "execution_count": 10,
     "metadata": {},
     "output_type": "execute_result"
    }
   ],
   "source": [
    "1*2"
   ]
  },
  {
   "cell_type": "code",
   "execution_count": 7,
   "id": "c4b22092",
   "metadata": {},
   "outputs": [
    {
     "data": {
      "text/plain": [
       "0.5"
      ]
     },
     "execution_count": 7,
     "metadata": {},
     "output_type": "execute_result"
    }
   ],
   "source": [
    "1/2"
   ]
  },
  {
   "cell_type": "code",
   "execution_count": 11,
   "id": "7089060b",
   "metadata": {},
   "outputs": [
    {
     "data": {
      "text/plain": [
       "1"
      ]
     },
     "execution_count": 11,
     "metadata": {},
     "output_type": "execute_result"
    }
   ],
   "source": [
    "10%3 "
   ]
  },
  {
   "cell_type": "code",
   "execution_count": 26,
   "id": "0f1b1143",
   "metadata": {},
   "outputs": [
    {
     "data": {
      "text/plain": [
       "0"
      ]
     },
     "execution_count": 26,
     "metadata": {},
     "output_type": "execute_result"
    }
   ],
   "source": [
    "15%3"
   ]
  },
  {
   "cell_type": "code",
   "execution_count": 25,
   "id": "9d5aad05",
   "metadata": {},
   "outputs": [
    {
     "data": {
      "text/plain": [
       "27"
      ]
     },
     "execution_count": 25,
     "metadata": {},
     "output_type": "execute_result"
    }
   ],
   "source": [
    "3**3"
   ]
  },
  {
   "cell_type": "code",
   "execution_count": 23,
   "id": "082bbb8f",
   "metadata": {},
   "outputs": [],
   "source": [
    "a=100"
   ]
  },
  {
   "cell_type": "code",
   "execution_count": 31,
   "id": "46033732",
   "metadata": {},
   "outputs": [
    {
     "data": {
      "text/plain": [
       "200"
      ]
     },
     "execution_count": 31,
     "metadata": {},
     "output_type": "execute_result"
    }
   ],
   "source": [
    "a+a"
   ]
  },
  {
   "cell_type": "code",
   "execution_count": 33,
   "id": "f0c19546",
   "metadata": {},
   "outputs": [],
   "source": [
    "a+=100"
   ]
  },
  {
   "cell_type": "code",
   "execution_count": 34,
   "id": "55c457f2",
   "metadata": {},
   "outputs": [
    {
     "name": "stdout",
     "output_type": "stream",
     "text": [
      "200\n"
     ]
    }
   ],
   "source": [
    "print(a)"
   ]
  },
  {
   "cell_type": "code",
   "execution_count": 35,
   "id": "e7af8804",
   "metadata": {},
   "outputs": [],
   "source": [
    "a = \"i can`'t\""
   ]
  },
  {
   "cell_type": "code",
   "execution_count": 37,
   "id": "aff7b00d",
   "metadata": {},
   "outputs": [
    {
     "name": "stdout",
     "output_type": "stream",
     "text": [
      "i can`'t\n"
     ]
    }
   ],
   "source": [
    "print(a)"
   ]
  },
  {
   "cell_type": "code",
   "execution_count": 38,
   "id": "c1bc5ac7",
   "metadata": {},
   "outputs": [],
   "source": [
    "a = 'i can\\'t'"
   ]
  },
  {
   "cell_type": "code",
   "execution_count": 39,
   "id": "5f0c11ac",
   "metadata": {},
   "outputs": [
    {
     "name": "stdout",
     "output_type": "stream",
     "text": [
      "i can't\n"
     ]
    }
   ],
   "source": [
    "print(a)"
   ]
  },
  {
   "cell_type": "code",
   "execution_count": 42,
   "id": "d9f04903",
   "metadata": {},
   "outputs": [
    {
     "name": "stdout",
     "output_type": "stream",
     "text": [
      "7.0\n"
     ]
    }
   ],
   "source": [
    "x=21\n",
    "x/=3\n",
    "print(x)"
   ]
  },
  {
   "cell_type": "code",
   "execution_count": 43,
   "id": "ac1a7630",
   "metadata": {},
   "outputs": [
    {
     "data": {
      "text/plain": [
       "7"
      ]
     },
     "execution_count": 43,
     "metadata": {},
     "output_type": "execute_result"
    }
   ],
   "source": [
    "int(x)"
   ]
  },
  {
   "cell_type": "code",
   "execution_count": 46,
   "id": "08aeb8e6",
   "metadata": {},
   "outputs": [
    {
     "name": "stdout",
     "output_type": "stream",
     "text": [
      "hi everyone\n",
      "meow meow meow\n",
      "the sea is calm to-night\n",
      "the tide is full; the moon lies fair\n",
      "upon the straits; on the french coast the light\n",
      "gleams and is gone; the cliffs of england stand,\n",
      "glimmering and vast, out in the tranquil bay\n"
     ]
    }
   ],
   "source": [
    "print('''hi everyone\n",
    "meow meow meow\n",
    "the sea is calm to-night\n",
    "the tide is full; the moon lies fair\n",
    "upon the straits; on the french coast the light\n",
    "gleams and is gone; the cliffs of england stand,\n",
    "glimmering and vast, out in the tranquil bay''')"
   ]
  },
  {
   "cell_type": "code",
   "execution_count": 48,
   "id": "876b5a8d",
   "metadata": {},
   "outputs": [
    {
     "name": "stdout",
     "output_type": "stream",
     "text": [
      "the sea is calm to-night\n",
      "the tide is full; the moon lies fair\n",
      "upon the straits; on the french coast the light\n",
      "gleams and is gone; the cliffs of england stand,\n",
      "glimmering and vast, out in the tranquil bay\n"
     ]
    }
   ],
   "source": [
    "first_half = '''the sea is calm to-night\n",
    "the tide is full; the moon lies fair'''\n",
    "second_half = '''upon the straits; on the french coast the light\n",
    "gleams and is gone; the cliffs of england stand,\n",
    "glimmering and vast, out in the tranquil bay'''\n",
    "print(first_half + '''\n",
    "''' + second_half)"
   ]
  },
  {
   "cell_type": "code",
   "execution_count": 49,
   "id": "9c9c49ec",
   "metadata": {},
   "outputs": [
    {
     "name": "stdout",
     "output_type": "stream",
     "text": [
      "the sea is calm to-night\n",
      "the tide is full; the moon lies fairupon the straits; on the french coast the light\n",
      "gleams and is gone; the cliffs of england stand,\n",
      "glimmering and vast, out in the tranquil bay\n"
     ]
    }
   ],
   "source": [
    "print(first_half + second_half)"
   ]
  },
  {
   "cell_type": "code",
   "execution_count": 53,
   "id": "8bd4feae",
   "metadata": {},
   "outputs": [],
   "source": [
    "whole = first_half + '''\n",
    "''' + second_half"
   ]
  },
  {
   "cell_type": "code",
   "execution_count": 54,
   "id": "93b66d81",
   "metadata": {},
   "outputs": [
    {
     "name": "stdout",
     "output_type": "stream",
     "text": [
      "the sea is calm to-night\n",
      "the tide is full; the moon lies fair\n",
      "upon the straits; on the french coast the light\n",
      "gleams and is gone; the cliffs of england stand,\n",
      "glimmering and vast, out in the tranquil bay\n"
     ]
    }
   ],
   "source": [
    "print(whole)"
   ]
  },
  {
   "cell_type": "code",
   "execution_count": 55,
   "id": "c6a43707",
   "metadata": {},
   "outputs": [
    {
     "name": "stdout",
     "output_type": "stream",
     "text": [
      "yayayayyayayayyayayay\n"
     ]
    }
   ],
   "source": [
    "my_string = \"yayayay\"\n",
    "my_string *= 3\n",
    "print(my_string)"
   ]
  },
  {
   "cell_type": "code",
   "execution_count": 56,
   "id": "37fd4fa0",
   "metadata": {},
   "outputs": [
    {
     "name": "stdout",
     "output_type": "stream",
     "text": [
      "zxvtrpnljhfdb\n"
     ]
    }
   ],
   "source": [
    "alphabet = \"abcdefghijklmnopqrstuvwxyz\"\n",
    "print(alphabet[-1:0:-2])"
   ]
  },
  {
   "cell_type": "code",
   "execution_count": 57,
   "id": "9ff64a3d",
   "metadata": {},
   "outputs": [
    {
     "name": "stdout",
     "output_type": "stream",
     "text": [
      "z\n"
     ]
    }
   ],
   "source": [
    "print(alphabet[-1:])"
   ]
  },
  {
   "cell_type": "code",
   "execution_count": 58,
   "id": "c7b8c185",
   "metadata": {},
   "outputs": [
    {
     "name": "stdout",
     "output_type": "stream",
     "text": [
      "zwtqnkheb\n"
     ]
    }
   ],
   "source": [
    "print(alphabet[-1:0:-3])"
   ]
  },
  {
   "cell_type": "code",
   "execution_count": 65,
   "id": "19addba4",
   "metadata": {},
   "outputs": [
    {
     "name": "stdout",
     "output_type": "stream",
     "text": [
      "111111\n",
      "000000\n"
     ]
    }
   ],
   "source": [
    "sequence = \"010101010101\"\n",
    "x = len(sequence)\n",
    "print(sequence[-1:0:-2])\n",
    "print(sequence[0:-1:2])"
   ]
  },
  {
   "cell_type": "code",
   "execution_count": 66,
   "id": "a9bca3bb",
   "metadata": {},
   "outputs": [
    {
     "ename": "TypeError",
     "evalue": "unsupported operand type(s) for /: 'str' and 'str'",
     "output_type": "error",
     "traceback": [
      "\u001b[0;31m---------------------------------------------------------------------------\u001b[0m",
      "\u001b[0;31mTypeError\u001b[0m                                 Traceback (most recent call last)",
      "\u001b[0;32m/var/folders/lj/gz81psj55xg1_fm6jfz2vbn80000gn/T/ipykernel_5592/3790408431.py\u001b[0m in \u001b[0;36m<module>\u001b[0;34m\u001b[0m\n\u001b[0;32m----> 1\u001b[0;31m \u001b[0mmy_string\u001b[0m \u001b[0;34m/\u001b[0m \u001b[0;34m\"yayayay\"\u001b[0m\u001b[0;34m\u001b[0m\u001b[0;34m\u001b[0m\u001b[0m\n\u001b[0m",
      "\u001b[0;31mTypeError\u001b[0m: unsupported operand type(s) for /: 'str' and 'str'"
     ]
    }
   ],
   "source": [
    "my_string / \"yayayay\""
   ]
  },
  {
   "cell_type": "code",
   "execution_count": 67,
   "id": "205fc6dc",
   "metadata": {},
   "outputs": [],
   "source": [
    "number = 20"
   ]
  },
  {
   "cell_type": "code",
   "execution_count": 75,
   "id": "a64ddcff",
   "metadata": {},
   "outputs": [
    {
     "name": "stdout",
     "output_type": "stream",
     "text": [
      "Hello, there are {number} of us\n"
     ]
    }
   ],
   "source": [
    "# without f\n",
    "print('Hello, there are {number} of us')"
   ]
  },
  {
   "cell_type": "code",
   "execution_count": 69,
   "id": "247b6bf0",
   "metadata": {},
   "outputs": [
    {
     "name": "stdout",
     "output_type": "stream",
     "text": [
      "Hello, there are 20 of us\n"
     ]
    }
   ],
   "source": [
    "# with f\n",
    "print(f'Hello, there are {number} of us')"
   ]
  },
  {
   "cell_type": "code",
   "execution_count": 76,
   "id": "464a5015",
   "metadata": {},
   "outputs": [
    {
     "name": "stdout",
     "output_type": "stream",
     "text": [
      "Hello, there are 20 of us\n"
     ]
    }
   ],
   "source": [
    "print(\"Hello, there are {} of us\".format(number))"
   ]
  },
  {
   "cell_type": "code",
   "execution_count": 77,
   "id": "ef6a244b",
   "metadata": {},
   "outputs": [],
   "source": [
    "list_one = [1,2,3]"
   ]
  },
  {
   "cell_type": "code",
   "execution_count": 78,
   "id": "2aeb2383",
   "metadata": {},
   "outputs": [
    {
     "name": "stdout",
     "output_type": "stream",
     "text": [
      "[1, 2, 3, 4, 5, 6, 7, 8, 9]\n"
     ]
    }
   ],
   "source": [
    "list_two = [4,5,6]\n",
    "list_three = [7,8,9]\n",
    "print(list_one + list_two + list_three)"
   ]
  },
  {
   "cell_type": "code",
   "execution_count": 79,
   "id": "5a856227",
   "metadata": {},
   "outputs": [
    {
     "name": "stdout",
     "output_type": "stream",
     "text": [
      "[1, 2, 3, 4, 5, 6, 7, 8, 9]\n"
     ]
    }
   ],
   "source": [
    "all_lists = list_one + list_two + list_three\n",
    "print(all_lists)"
   ]
  },
  {
   "cell_type": "code",
   "execution_count": 80,
   "id": "146b32c0",
   "metadata": {},
   "outputs": [
    {
     "name": "stdout",
     "output_type": "stream",
     "text": [
      "{'cat': 'meow', 'dog': 'woof', 'turtle': 'no sound'}\n"
     ]
    }
   ],
   "source": [
    "shiny_new_dictionary = {\"cat\":\"meow\", 'dog':'woof', \"turtle\":'no sound'}\n",
    "print(shiny_new_dictionary)"
   ]
  },
  {
   "cell_type": "code",
   "execution_count": 82,
   "id": "61385252",
   "metadata": {},
   "outputs": [
    {
     "data": {
      "text/plain": [
       "'no sound'"
      ]
     },
     "execution_count": 82,
     "metadata": {},
     "output_type": "execute_result"
    }
   ],
   "source": [
    "shiny_new_dictionary['turtle']"
   ]
  },
  {
   "cell_type": "code",
   "execution_count": 83,
   "id": "5727d425",
   "metadata": {},
   "outputs": [],
   "source": [
    "lazy = shiny_new_dictionary"
   ]
  },
  {
   "cell_type": "code",
   "execution_count": 84,
   "id": "f3ef9ec7",
   "metadata": {},
   "outputs": [
    {
     "name": "stdout",
     "output_type": "stream",
     "text": [
      "{'cat': 'meow', 'dog': 'woof', 'turtle': 'no sound', 'bird': 'chirp'}\n"
     ]
    }
   ],
   "source": [
    "lazy['bird'] = 'chirp'\n",
    "print(lazy)"
   ]
  },
  {
   "cell_type": "code",
   "execution_count": 87,
   "id": "507d187f",
   "metadata": {},
   "outputs": [
    {
     "data": {
      "text/plain": [
       "dict_keys(['cat', 'dog', 'turtle', 'bird'])"
      ]
     },
     "execution_count": 87,
     "metadata": {},
     "output_type": "execute_result"
    }
   ],
   "source": [
    "lazy.keys()"
   ]
  },
  {
   "cell_type": "code",
   "execution_count": null,
   "id": "60451435",
   "metadata": {},
   "outputs": [],
   "source": []
  },
  {
   "cell_type": "code",
   "execution_count": null,
   "id": "88098a7e",
   "metadata": {},
   "outputs": [],
   "source": []
  },
  {
   "cell_type": "code",
   "execution_count": null,
   "id": "70943af3",
   "metadata": {},
   "outputs": [],
   "source": []
  },
  {
   "cell_type": "code",
   "execution_count": null,
   "id": "e4bd8d88",
   "metadata": {},
   "outputs": [],
   "source": []
  },
  {
   "cell_type": "code",
   "execution_count": null,
   "id": "94373c1e",
   "metadata": {},
   "outputs": [],
   "source": []
  }
 ],
 "metadata": {
  "kernelspec": {
   "display_name": "Python 3 (ipykernel)",
   "language": "python",
   "name": "python3"
  },
  "language_info": {
   "codemirror_mode": {
    "name": "ipython",
    "version": 3
   },
   "file_extension": ".py",
   "mimetype": "text/x-python",
   "name": "python",
   "nbconvert_exporter": "python",
   "pygments_lexer": "ipython3",
   "version": "3.9.13"
  }
 },
 "nbformat": 4,
 "nbformat_minor": 5
}
