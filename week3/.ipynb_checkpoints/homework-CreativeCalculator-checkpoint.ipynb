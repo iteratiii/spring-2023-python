{
 "cells": [
  {
   "cell_type": "code",
   "execution_count": 7,
   "metadata": {},
   "outputs": [
    {
     "name": "stdout",
     "output_type": "stream",
     "text": [
      "apple\n",
      "bananas\n",
      "cantelopes\n",
      "dates\n",
      "figs\n",
      "grapes\n",
      "tangerines\n",
      "watermelon\n",
      "avocado\n",
      "strawberries\n"
     ]
    }
   ],
   "source": [
    "# 1) Iterate through list and print the key \n",
    "\n",
    "fruit_basket = {'apple': 1, 'bananas': 2, 'cantelopes': 3, 'dates': 4, 'figs': 5, 'grapes': 6, 'tangerines': 7, 'watermelon': 8, 'avocado': 9, 'strawberries': 10}\n",
    "for fruit,count in fruit_basket.items():\n",
    "    print(fruit)\n",
    "    \n",
    "# for fruit in fruit_basket:\n",
    "#   print(fruit)"
   ]
  },
  {
   "cell_type": "code",
   "execution_count": 8,
   "metadata": {},
   "outputs": [
    {
     "name": "stdout",
     "output_type": "stream",
     "text": [
      "1\n",
      "2\n",
      "3\n",
      "4\n",
      "5\n",
      "6\n",
      "7\n",
      "8\n",
      "9\n",
      "10\n"
     ]
    }
   ],
   "source": [
    "# 2) Iterate through list and print the value \n",
    "fruit_basket = {'apple': 1, 'bananas': 2, 'cantelopes': 3, 'dates': 4, 'figs': 5, 'grapes': 6, 'tangerines': 7, 'watermelon': 8, 'avocado': 9, 'strawberries': 10}\n",
    "for fruit,count in fruit_basket.items():\n",
    "    print(count)"
   ]
  },
  {
   "cell_type": "code",
   "execution_count": 11,
   "metadata": {},
   "outputs": [
    {
     "name": "stdout",
     "output_type": "stream",
     "text": [
      "55\n"
     ]
    }
   ],
   "source": [
    "# 3) Find sum of all the fruit \n",
    "fruit_basket = {'apple': 1, 'bananas': 2, 'cantelopes': 3, 'dates': 4, 'figs': 5, 'grapes': 6, 'tangerines': 7, 'watermelon': 8, 'avocado': 9, 'strawberries': 10}\n",
    "print(sum(fruit_basket.values()))\n",
    "    "
   ]
  },
  {
   "cell_type": "code",
   "execution_count": 12,
   "metadata": {},
   "outputs": [
    {
     "name": "stdout",
     "output_type": "stream",
     "text": [
      "(8, 7)\n"
     ]
    }
   ],
   "source": [
    "# 4) What is the output of the add() function call and why? \n",
    "\n",
    "def add(a, b):\n",
    "    return a+5, b+5\n",
    "\n",
    "result = add(3, 2)\n",
    "print(result)\n",
    "\n",
    "# c) (8, 7)"
   ]
  },
  {
   "cell_type": "code",
   "execution_count": null,
   "metadata": {},
   "outputs": [],
   "source": [
    "# 5) Select the statements that are true: \n",
    "\n",
    "b) A function can take an unlimited number of arguments.\n",
    "c) A Python function can return multiple values\n",
    "# d) Python function doesn’t return anything unless and until you add a return statement\n",
    "# wrong! b and c only\n"
   ]
  },
  {
   "cell_type": "code",
   "execution_count": null,
   "metadata": {},
   "outputs": [],
   "source": [
    "# 6) Python function always returns a value\n",
    "\n",
    "# False. It only returns a value if you add a return statement inside.\n",
    "# wrong! \n",
    "Answer True, If you do not include any return statement in function, it automatically returns None. So, in Python function always returns a value."
   ]
  },
  {
   "cell_type": "code",
   "execution_count": 13,
   "metadata": {},
   "outputs": [
    {
     "name": "stdout",
     "output_type": "stream",
     "text": [
      "2\n"
     ]
    }
   ],
   "source": [
    "# 7) Given the nested if-else structure below, what will be the value of x after code execution completes\n",
    "\n",
    "x = 0\n",
    "a = 0\n",
    "b = -5\n",
    "if a > 0:\n",
    "    if b < 0: \n",
    "        x = x + 5 \n",
    "    elif a > 5:\n",
    "        x = x + 4\n",
    "    else:\n",
    "        x = x + 3\n",
    "else:\n",
    "    x = x + 2\n",
    "print(x)\n",
    "\n",
    "# Answer: 2"
   ]
  },
  {
   "cell_type": "code",
   "execution_count": 18,
   "metadata": {},
   "outputs": [
    {
     "name": "stdout",
     "output_type": "stream",
     "text": [
      "True\n"
     ]
    }
   ],
   "source": [
    "# 8) What is the output of the following if statement and why? \n",
    "\n",
    "# a, b = 12, 5\n",
    "# if a + b:\n",
    "#     print('True')\n",
    "# else:\n",
    "#   print('False')\n",
    "\n",
    "True. a is being added to b, so the if statement condition is fulfilled.\n",
    "\n",
    "# any non-zero value is True"
   ]
  },
  {
   "cell_type": "markdown",
   "metadata": {},
   "source": [
    "9) A calculator is defined as the following: \n",
    "\n",
    "\"something used for making mathematical calculations, in particular a small electronic device with a keyboard and a visual display.\" \n",
    "\n",
    "\n",
    "Create a creative calculator of your choice where _something_ is being calculated (it must perform some sort of operation). Feel free to get creative with it. Your calculator can be also be literal. Your calculator must include the following: \n",
    "\n",
    "* an input box \n",
    "* a function \n",
    "\n",
    "Some examples of things to calculate: \n",
    "\n",
    "* adding strings \n",
    "* create your own version of verbal arithmetic (https://en.wikipedia.org/wiki/Verbal_arithmetic) \n",
    "* how many times \"I\" is mentioned in a paragraph \n",
    "* add more operations to the calculator like REMAINDER (%) or POWER (**) \n",
    "\n",
    "Refer to the sample code below to get started. \n"
   ]
  },
  {
   "cell_type": "code",
   "execution_count": 19,
   "metadata": {},
   "outputs": [],
   "source": [
    "def calculator():\n",
    "\n",
    "    operation = input(''' \n",
    "Please type in the math operation you would like to complete:\n",
    "+ for addition\n",
    "- for subtraction\n",
    "* for multiplication\n",
    "/ for division\n",
    "''') # Triple-quotes allow the string to span multiple lines\n",
    "    \n",
    "    # Prompt the user to input two numbers\n",
    "    # The int() function converts the string that comes in from the input() function to an integer\n",
    "    number_1 = int(input('Please enter the first number: '))\n",
    "    number_2 = int(input('Please enter the second number: '))\n",
    "\n",
    "    # Conditional statement:\n",
    "    # If the user entered '+', perform an addition\n",
    "    if operation == '+':\n",
    "        print(number_1, '+', number_2, '=')\n",
    "        print(number_1 + number_2)\n",
    "\n",
    "    # Else if the user entered '-', perform a substraction\n",
    "    elif operation == '-':\n",
    "        print(number_1, '-', number_2, '=')\n",
    "        print(number_1 - number_2)\n",
    "\n",
    "    # Else if the user entered '*', perform a multiplication\n",
    "    elif operation == '*':\n",
    "        print(number_1, '*', number_2, '=')\n",
    "        print(number_1 * number_2)\n",
    "\n",
    "    # Else if the user entered '/', perform a division\n",
    "    elif operation == '/':\n",
    "        print(number_1, '/', number_2, '=')\n",
    "        print(number_1 / number_2)\n",
    "    \n",
    "    # Else notify the user that they have not put in a valid operator (in place to handle error-message)\n",
    "    else:\n",
    "        print('You have not entered a valid operator')\n",
    "        "
   ]
  },
  {
   "cell_type": "code",
   "execution_count": 20,
   "metadata": {},
   "outputs": [
    {
     "name": "stdout",
     "output_type": "stream",
     "text": [
      " \n",
      "Please type in the math operation you would like to complete:\n",
      "+ for addition\n",
      "- for subtraction\n",
      "* for multiplication\n",
      "/ for division\n",
      "/\n",
      "Please enter the first number: 5\n",
      "Please enter the second number: 5\n",
      "5 / 5 =\n",
      "1.0\n"
     ]
    }
   ],
   "source": [
    "calculator()"
   ]
  },
  {
   "cell_type": "code",
   "execution_count": null,
   "metadata": {},
   "outputs": [],
   "source": []
  },
  {
   "cell_type": "code",
   "execution_count": 1,
   "metadata": {},
   "outputs": [
    {
     "name": "stdout",
     "output_type": "stream",
     "text": [
      "Please input a verb, e.g. \"love\" or \"enjoy\". croon\n",
      "Please input a second verb, e.g. \"appreciate\" or \"devour\". dream\n",
      "Please input a noun, e.g. \"Caroline Polachek\" or \"umbrellas\". Caroline Polachek\n",
      "┏┓\n",
      "┃┃╱╲ In this\n",
      "┃╱╱╲╲ house\n",
      "╱╱╭╮╲╲ we croon\n",
      "▔▏┗┛▕▔ & dream\n",
      "╱▔▔▔▔▔▔▔▔▔▔╲\n",
      "Caroline Polachek\n",
      "╱╱┏┳┓╭╮┏┳┓ ╲╲\n",
      "▔▏┗┻┛┃┃┗┻┛▕▔\n"
     ]
    }
   ],
   "source": [
    "#https://www.tumblr.com/in-this-house-we\n",
    "\n",
    "def inthishouse():\n",
    "    \n",
    "    verb1=input(\"Please input a verb, e.g. \\\"love\\\" or \\\"enjoy\\\". \")\n",
    "    verb2=input(\"Please input a second verb, e.g. \\\"appreciate\\\" or \\\"devour\\\". \")\n",
    "    noun=input(\"Please input a noun, e.g. \\\"Caroline Polachek\\\" or \\\"umbrellas\\\". \")\n",
    "\n",
    "    haus1='''┏┓\n",
    "┃┃╱╲ In this\n",
    "┃╱╱╲╲ house\n",
    "╱╱╭╮╲╲ we '''\n",
    "    haus2='''\n",
    "▔▏┗┛▕▔ & '''\n",
    "    haus3='''\n",
    "╱▔▔▔▔▔▔▔▔▔▔╲\n",
    "'''\n",
    "    haus4='''\n",
    "╱╱┏┳┓╭╮┏┳┓ ╲╲\n",
    "▔▏┗┻┛┃┃┗┻┛▕▔'''\n",
    "    \n",
    "    output=haus1+verb1+haus2+verb2+haus3+noun.center(12, \" \")+haus4\n",
    "    print(output)\n",
    "\n",
    "inthishouse()"
   ]
  },
  {
   "cell_type": "code",
   "execution_count": 1,
   "metadata": {
    "scrolled": false
   },
   "outputs": [
    {
     "name": "stdout",
     "output_type": "stream",
     "text": [
      "Please input your name. Shirley\n",
      "\n",
      "\n",
      "Shiiirleeeyyy❣️\n",
      "⊂_ヽ\n",
      "　 ＼＼\n",
      "　　 ＼( ͡° ͜ʖ ͡°)\n",
      "　🌸　 >　⌒ヽ\n",
      "　　　/ 　 へ＼  🌸\n",
      "　　 /　　/　＼＼\n",
      "✨  ﾚ　ノ　　 ヽ_つ\n",
      "　　/　/\n",
      "　 /　/|   ✨\n",
      "　(　(ヽ 🌸  ✨\n",
      "　|　|、＼\n",
      "　| 丿 ＼ ⌒)       🌸\n",
      "　| |　　) /    🌸\n",
      "ノ )　　( ﾉ  ✨\n",
      "(_／\n"
     ]
    }
   ],
   "source": [
    "dude='''\n",
    "⊂_ヽ\n",
    "　 ＼＼\n",
    "　　 ＼( ͡° ͜ʖ ͡°)\n",
    "　🌸　 >　⌒ヽ\n",
    "　　　/ 　 へ＼  🌸\n",
    "　　 /　　/　＼＼\n",
    "✨  ﾚ　ノ　　 ヽ_つ\n",
    "　　/　/\n",
    "　 /　/|   ✨\n",
    "　(　(ヽ 🌸  ✨\n",
    "　|　|、＼\n",
    "　| 丿 ＼ ⌒)       🌸\n",
    "　| |　　) /    🌸\n",
    "ノ )　　( ﾉ  ✨\n",
    "(_／'''\n",
    "\n",
    "def elongate():\n",
    "    \n",
    "    name=input(\"Please input your name. \")\n",
    "    # List starts with the lowercase vowels so that we check for uppercase ones last and they get replaced last.\n",
    "    # Otherwise the replacements get tripled.\n",
    "    vowels=\"aeiouyAEIOUY\"\n",
    "\n",
    "    # For each vowel in the list, starting with the lowercase ones,\n",
    "    for vowel in vowels:\n",
    "        # If you find it in the name and it's uppercase in the name,\n",
    "        if(name.find(vowel) != -1 and name[name.find(vowel)].isupper()):\n",
    "            # Replace it with itself (uppercase) once and its lowercase version twice\n",
    "            name = name.replace(vowel, vowel + vowel.lower()*2)\n",
    "        # Otherwise, if you find it in the name and it's lowercase in the name,\n",
    "        elif(name.find(vowel) != -1 and name[name.find(vowel)].islower()):\n",
    "            # Replace it with itself (lowercase) three times\n",
    "            name = name.replace(vowel, vowel*3)            \n",
    "    \n",
    "    # And print it out.\n",
    "    print(\"\\n\\n\"+name+'❣️'+dude)    \n",
    "\n",
    "elongate()"
   ]
  }
 ],
 "metadata": {
  "kernelspec": {
   "display_name": "Python 3 (ipykernel)",
   "language": "python",
   "name": "python3"
  },
  "language_info": {
   "codemirror_mode": {
    "name": "ipython",
    "version": 3
   },
   "file_extension": ".py",
   "mimetype": "text/x-python",
   "name": "python",
   "nbconvert_exporter": "python",
   "pygments_lexer": "ipython3",
   "version": "3.9.13"
  }
 },
 "nbformat": 4,
 "nbformat_minor": 2
}
