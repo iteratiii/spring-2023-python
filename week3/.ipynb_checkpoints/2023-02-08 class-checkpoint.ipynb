{
 "cells": [
  {
   "cell_type": "code",
   "execution_count": 1,
   "id": "2359f62f",
   "metadata": {},
   "outputs": [
    {
     "name": "stdout",
     "output_type": "stream",
     "text": [
      "condition not met\n"
     ]
    }
   ],
   "source": [
    "x = False\n",
    "if x:\n",
    "    print(\"condition met\")\n",
    "else:\n",
    "    print(\"condition not met\")"
   ]
  },
  {
   "cell_type": "code",
   "execution_count": 2,
   "id": "695738fd",
   "metadata": {},
   "outputs": [
    {
     "name": "stdout",
     "output_type": "stream",
     "text": [
      "condition met\n"
     ]
    }
   ],
   "source": [
    "x = False\n",
    "if not x:\n",
    "    print(\"condition met\")\n",
    "else:\n",
    "    print(\"condition not met\")"
   ]
  },
  {
   "cell_type": "code",
   "execution_count": 3,
   "id": "7ae68c60",
   "metadata": {},
   "outputs": [
    {
     "name": "stdout",
     "output_type": "stream",
     "text": [
      "x < y\n"
     ]
    }
   ],
   "source": [
    "x = 10\n",
    "y = 20\n",
    "if x < y:\n",
    "    print(\"x < y\")\n",
    "else:\n",
    "    print(\"x >= y\")"
   ]
  },
  {
   "cell_type": "code",
   "execution_count": 8,
   "id": "5445b595",
   "metadata": {},
   "outputs": [
    {
     "name": "stdout",
     "output_type": "stream",
     "text": [
      "no\n"
     ]
    }
   ],
   "source": [
    "if 1<3 and 1>2:\n",
    "    print(\"yes\")\n",
    "else:\n",
    "    print(\"no\")"
   ]
  },
  {
   "cell_type": "code",
   "execution_count": 17,
   "id": "9dca3cee",
   "metadata": {},
   "outputs": [
    {
     "name": "stdout",
     "output_type": "stream",
     "text": [
      "meow meow meow meow\n"
     ]
    }
   ],
   "source": [
    "x = 21\n",
    "if x<20:\n",
    "    print(\"x<20\")\n",
    "elif x==20:\n",
    "    print(\"x=20\")\n",
    "elif x>20:\n",
    "    print(\"meow meow meow meow\")\n",
    "else:\n",
    "    print(\"idek man\")"
   ]
  },
  {
   "cell_type": "code",
   "execution_count": 19,
   "id": "79220568",
   "metadata": {},
   "outputs": [
    {
     "name": "stdout",
     "output_type": "stream",
     "text": [
      "h\n",
      "e\n",
      "l\n",
      "l\n",
      "o\n",
      "o\n",
      "o\n",
      "o\n",
      "o\n",
      "o\n",
      "o\n",
      " \n",
      "D\n",
      ":\n",
      "<\n"
     ]
    }
   ],
   "source": [
    "for letter in \"hellooooooo D:<\":\n",
    "    print(letter)"
   ]
  },
  {
   "cell_type": "code",
   "execution_count": 22,
   "id": "c18df75a",
   "metadata": {},
   "outputs": [
    {
     "name": "stdout",
     "output_type": "stream",
     "text": [
      "blue\n",
      "bloo\n",
      "bleu\n",
      "bl¨ü\n",
      "['blue', 'bloo', 'bleu', 'bl¨ü', 'red', 'read']\n"
     ]
    }
   ],
   "source": [
    "lsst = ['blue', 'bloo', 'bleu', 'bl¨ü']\n",
    "for color in lsst:\n",
    "    print(color)\n",
    "    \n",
    "lssst = ['red', 'read']\n",
    "\n",
    "for color in lssst:\n",
    "    lsst.append(color)\n",
    "\n",
    "print(lsst)"
   ]
  },
  {
   "cell_type": "code",
   "execution_count": 24,
   "id": "29153028",
   "metadata": {},
   "outputs": [
    {
     "name": "stdout",
     "output_type": "stream",
     "text": [
      "oddening\n",
      "evening\n",
      "oddening\n",
      "evening\n",
      "oddening\n",
      "evening\n",
      "oddening\n",
      "evening\n",
      "oddening\n",
      "evening\n"
     ]
    }
   ],
   "source": [
    "numbers = [1,2,3,4,5,6,7,8,9,10]\n",
    "for number in numbers:\n",
    "    if(number%2 == 0):\n",
    "        print(\"evening\")\n",
    "    else:\n",
    "        print(\"oddening\")"
   ]
  },
  {
   "cell_type": "code",
   "execution_count": 26,
   "id": "a743d7c0",
   "metadata": {},
   "outputs": [
    {
     "data": {
      "text/plain": [
       "5"
      ]
     },
     "execution_count": 26,
     "metadata": {},
     "output_type": "execute_result"
    }
   ],
   "source": [
    "#tuple unpacking\n",
    "\n",
    "tupa_tups = [(1,2),(3,4),(5,6),(7,8),(9,10)]\n",
    "len(tupa_tups)"
   ]
  },
  {
   "cell_type": "code",
   "execution_count": 27,
   "id": "009fe9fc",
   "metadata": {},
   "outputs": [
    {
     "name": "stdout",
     "output_type": "stream",
     "text": [
      "(1, 2)\n",
      "(3, 4)\n",
      "(5, 6)\n",
      "(7, 8)\n",
      "(9, 10)\n"
     ]
    }
   ],
   "source": [
    "for pair in tupa_tups:\n",
    "    print(pair)"
   ]
  },
  {
   "cell_type": "code",
   "execution_count": 34,
   "id": "932fb439",
   "metadata": {},
   "outputs": [
    {
     "name": "stdout",
     "output_type": "stream",
     "text": [
      "1 2\n",
      "3 4\n",
      "5 6\n",
      "7 8\n",
      "9 10\n"
     ]
    }
   ],
   "source": [
    "#you don't need the parentheses (x,y) — with the comma, it already knows you're calling a tuple\n",
    "for x,y in tupa_tups:\n",
    "    print(x,y)"
   ]
  },
  {
   "cell_type": "code",
   "execution_count": 42,
   "id": "d892b615",
   "metadata": {},
   "outputs": [
    {
     "name": "stdout",
     "output_type": "stream",
     "text": [
      "('k1', 1)\n",
      "('k2', 2)\n",
      "('k3', 3)\n",
      "k1\n",
      "k2\n",
      "k3\n",
      "1\n",
      "2\n",
      "3\n",
      "1\n",
      "2\n",
      "3\n"
     ]
    }
   ],
   "source": [
    "# ways to look at a dictionary\n",
    "# looking inside a dictionary, using the , tells it to isolate the key and value from inside the dict\n",
    "\n",
    "dictee = {'k1':1,'k2':2,'k3':3}\n",
    "for i in dictee.items():\n",
    "    print(i)\n",
    "    \n",
    "for key,value in dictee.items():\n",
    "    print(key)\n",
    "    \n",
    "for key,value in dictee.items():\n",
    "    print(value)\n",
    "    \n",
    "for value in dictee.values():\n",
    "    print(value)"
   ]
  },
  {
   "cell_type": "code",
   "execution_count": 47,
   "id": "9edfb26e",
   "metadata": {},
   "outputs": [
    {
     "name": "stdout",
     "output_type": "stream",
     "text": [
      "2\n",
      "3\n",
      "4\n",
      "5\n",
      "6\n",
      "i am finished at last i can rest\n"
     ]
    }
   ],
   "source": [
    "x = 1\n",
    "while x <= 5:\n",
    "    x+=1\n",
    "    print(x)\n",
    "else:\n",
    "    print('i am finished at last i can rest')"
   ]
  },
  {
   "cell_type": "code",
   "execution_count": 49,
   "id": "cd4e4c02",
   "metadata": {},
   "outputs": [],
   "source": [
    "#break, continue, pass = more protected words\n",
    "    # break = breaks out of current enclosing loop\n",
    "    # continue = goes to the top of current enclosing loop\n",
    "    # pass = does nothing\n",
    "\n",
    "# for thing in \"something\":\n",
    "#     #skip this — don't execute the space code under it\n",
    "#     pass"
   ]
  },
  {
   "cell_type": "code",
   "execution_count": 57,
   "id": "ab9f9de2",
   "metadata": {},
   "outputs": [
    {
     "name": "stdout",
     "output_type": "stream",
     "text": [
      "x is currently  0\n",
      "x is still less than 3, adding 1 to x\n",
      "continuing...\n",
      "x is currently  1\n",
      "x is still less than 3, adding 1 to x\n",
      "continuing...\n",
      "x is currently  2\n",
      "x is still less than 3, adding 1 to x\n",
      "x = 3\n",
      "x is currently  3\n",
      "x is still less than 3, adding 1 to x\n",
      "continuing...\n"
     ]
    }
   ],
   "source": [
    "x = 0\n",
    "while x<=3:\n",
    "    print(\"x is currently\", x)\n",
    "    print(\"x is still less than 3, adding 1 to x\")\n",
    "    x+=1\n",
    "    if x==3:\n",
    "        print('x = 3')\n",
    "    else:\n",
    "        print('continuing...')\n",
    "        continue"
   ]
  },
  {
   "cell_type": "code",
   "execution_count": 61,
   "id": "2e379d88",
   "metadata": {},
   "outputs": [
    {
     "name": "stdout",
     "output_type": "stream",
     "text": [
      "x is currently... 0\n",
      "x is still less than 3, adding 1 to x\n",
      "keep going\n",
      "x is currently... 1\n",
      "x is still less than 3, adding 1 to x\n",
      "keep going\n",
      "x is currently... 2\n",
      "x is still less than 3, adding 1 to x\n",
      "breaky breaky because x finally reached 3\n"
     ]
    }
   ],
   "source": [
    "x = 0\n",
    "while x<=3:\n",
    "    print(\"x is currently...\",x)\n",
    "    print(\"x is still less than 3, adding 1 to x\")\n",
    "    x+=1\n",
    "    if x==3:\n",
    "        print(\"breaky breaky because x finally reached\",x)\n",
    "        break\n",
    "    else:\n",
    "        print(\"keep going\")"
   ]
  },
  {
   "cell_type": "code",
   "execution_count": 64,
   "id": "811afc81",
   "metadata": {},
   "outputs": [
    {
     "name": "stdout",
     "output_type": "stream",
     "text": [
      "[0, 1, 4, 9, 16, 25, 36, 49, 64, 81]\n"
     ]
    }
   ],
   "source": [
    "# list comprehension\n",
    "squares = []\n",
    "for i in range(10):\n",
    "    squares.append(i*i)\n",
    "print(squares)\n",
    "    "
   ]
  },
  {
   "cell_type": "code",
   "execution_count": 62,
   "id": "d1f6caa0",
   "metadata": {},
   "outputs": [
    {
     "data": {
      "text/plain": [
       "range(0, 10)"
      ]
     },
     "execution_count": 62,
     "metadata": {},
     "output_type": "execute_result"
    }
   ],
   "source": [
    "range(10)"
   ]
  },
  {
   "cell_type": "code",
   "execution_count": 71,
   "id": "11e8bc60",
   "metadata": {
    "scrolled": true
   },
   "outputs": [
    {
     "name": "stdout",
     "output_type": "stream",
     "text": [
      "[0, 1, 4, 9, 16, 25, 36, 49, 64, 81]\n"
     ]
    }
   ],
   "source": [
    "newsquares = [i*i for i in range(10)]\n",
    "print(newsquares)"
   ]
  },
  {
   "cell_type": "code",
   "execution_count": 72,
   "id": "359f270b",
   "metadata": {
    "scrolled": true
   },
   "outputs": [
    {
     "name": "stdout",
     "output_type": "stream",
     "text": [
      "[1, 9, 25, 49, 81]\n"
     ]
    }
   ],
   "source": [
    "newsquares = [i*i for i in range(10) if i%2!=0]\n",
    "print(newsquares)"
   ]
  },
  {
   "cell_type": "code",
   "execution_count": 80,
   "id": "059547bf",
   "metadata": {},
   "outputs": [
    {
     "name": "stdout",
     "output_type": "stream",
     "text": [
      "[32, 50, 122, 41, 90]\n"
     ]
    }
   ],
   "source": [
    "celsius = [0,10,50,5,32.2222]\n",
    "fahrenheit =[round((9/5)*temperature+32) for temperature in celsius]\n",
    "print(fahrenheit)"
   ]
  },
  {
   "cell_type": "code",
   "execution_count": null,
   "id": "3fe35fa4",
   "metadata": {},
   "outputs": [],
   "source": [
    "# F U N C T I O N S"
   ]
  },
  {
   "cell_type": "code",
   "execution_count": 86,
   "id": "ef208cf2",
   "metadata": {},
   "outputs": [
    {
     "name": "stdout",
     "output_type": "stream",
     "text": [
      "sup boyyyy\n",
      "Help on function greeting in module __main__:\n",
      "\n",
      "greeting(name)\n",
      "    This is a greetings function\n",
      "    \n",
      "    Arguments\n",
      "        name = who are u greeting\n",
      "\n"
     ]
    }
   ],
   "source": [
    "def greeting(name):\n",
    "    \"\"\"This is a greetings function\n",
    "    \n",
    "    Arguments\n",
    "        name = who are u greeting\n",
    "    \n",
    "    \"\"\"\n",
    "    print(\"sup\",name)\n",
    "    \n",
    "greeting('boyyyy')\n",
    "\n",
    "#this grabs the docstring text yayyy\n",
    "help(greeting)"
   ]
  },
  {
   "cell_type": "code",
   "execution_count": 109,
   "id": "0bca9ba6",
   "metadata": {},
   "outputs": [
    {
     "name": "stdout",
     "output_type": "stream",
     "text": [
      "hello i am local to greeting and enclosing to hello\n"
     ]
    }
   ],
   "source": [
    "name = \"i am global\"\n",
    "\n",
    "def greeting():\n",
    "    #enclosing to hello\n",
    "    #local to greeting\n",
    "    name = \"i am local to greeting and enclosing to hello\"\n",
    "    def hello():\n",
    "        #local to hello\n",
    "        #name = \"i am local to hello\"\n",
    "        print(\"hello\",name)\n",
    "    hello()\n",
    "greeting()\n",
    "\n",
    "#the legb community"
   ]
  },
  {
   "cell_type": "code",
   "execution_count": 8,
   "id": "14cab644",
   "metadata": {},
   "outputs": [
    {
     "name": "stdout",
     "output_type": "stream",
     "text": [
      "X is 100\n"
     ]
    }
   ],
   "source": [
    "x = 50\n",
    "def assign(x):\n",
    "    x = 100\n",
    "    print(f'X is {x}')\n",
    "    \n",
    "assign(x)"
   ]
  },
  {
   "cell_type": "code",
   "execution_count": 11,
   "id": "59c7ab98",
   "metadata": {},
   "outputs": [
    {
     "ename": "UnboundLocalError",
     "evalue": "local variable 'c' referenced before assignment",
     "output_type": "error",
     "traceback": [
      "\u001b[0;31m---------------------------------------------------------------------------\u001b[0m",
      "\u001b[0;31mUnboundLocalError\u001b[0m                         Traceback (most recent call last)",
      "\u001b[0;32m/var/folders/lj/gz81psj55xg1_fm6jfz2vbn80000gn/T/ipykernel_3536/2895171940.py\u001b[0m in \u001b[0;36m<module>\u001b[0;34m\u001b[0m\n\u001b[1;32m      4\u001b[0m     \u001b[0mprint\u001b[0m\u001b[0;34m(\u001b[0m\u001b[0mc\u001b[0m\u001b[0;34m)\u001b[0m\u001b[0;34m\u001b[0m\u001b[0;34m\u001b[0m\u001b[0m\n\u001b[1;32m      5\u001b[0m \u001b[0;34m\u001b[0m\u001b[0m\n\u001b[0;32m----> 6\u001b[0;31m \u001b[0madd\u001b[0m\u001b[0;34m(\u001b[0m\u001b[0;34m)\u001b[0m\u001b[0;34m\u001b[0m\u001b[0;34m\u001b[0m\u001b[0m\n\u001b[0m",
      "\u001b[0;32m/var/folders/lj/gz81psj55xg1_fm6jfz2vbn80000gn/T/ipykernel_3536/2895171940.py\u001b[0m in \u001b[0;36madd\u001b[0;34m()\u001b[0m\n\u001b[1;32m      1\u001b[0m \u001b[0mc\u001b[0m \u001b[0;34m=\u001b[0m \u001b[0;36m1\u001b[0m\u001b[0;34m\u001b[0m\u001b[0;34m\u001b[0m\u001b[0m\n\u001b[1;32m      2\u001b[0m \u001b[0;32mdef\u001b[0m \u001b[0madd\u001b[0m\u001b[0;34m(\u001b[0m\u001b[0;34m)\u001b[0m\u001b[0;34m:\u001b[0m\u001b[0;34m\u001b[0m\u001b[0;34m\u001b[0m\u001b[0m\n\u001b[0;32m----> 3\u001b[0;31m     \u001b[0mc\u001b[0m \u001b[0;34m=\u001b[0m \u001b[0mc\u001b[0m\u001b[0;34m+\u001b[0m\u001b[0;36m2\u001b[0m\u001b[0;34m\u001b[0m\u001b[0;34m\u001b[0m\u001b[0m\n\u001b[0m\u001b[1;32m      4\u001b[0m     \u001b[0mprint\u001b[0m\u001b[0;34m(\u001b[0m\u001b[0mc\u001b[0m\u001b[0;34m)\u001b[0m\u001b[0;34m\u001b[0m\u001b[0;34m\u001b[0m\u001b[0m\n\u001b[1;32m      5\u001b[0m \u001b[0;34m\u001b[0m\u001b[0m\n",
      "\u001b[0;31mUnboundLocalError\u001b[0m: local variable 'c' referenced before assignment"
     ]
    }
   ],
   "source": [
    "c = 1\n",
    "def add():\n",
    "    c = c + 2\n",
    "    print(c)\n",
    "    \n",
    "add()\n",
    "\n",
    "# gives an error, because \n",
    "# what happens in the function happens before what happens outside — \n",
    "# and c hasn't been assigned before doing operation on it"
   ]
  },
  {
   "cell_type": "code",
   "execution_count": 13,
   "id": "35915f11",
   "metadata": {},
   "outputs": [
    {
     "name": "stdout",
     "output_type": "stream",
     "text": [
      "3\n"
     ]
    }
   ],
   "source": [
    "c = 1\n",
    "def add():\n",
    "    global c\n",
    "    c = c + 2\n",
    "    print(c)\n",
    "    \n",
    "add()\n",
    "\n",
    "# doesn't give an error, because we're assigning c as global variable (hey! look outside!)"
   ]
  },
  {
   "cell_type": "code",
   "execution_count": 16,
   "id": "50a7a7ac",
   "metadata": {},
   "outputs": [
    {
     "data": {
      "text/plain": [
       "12"
      ]
     },
     "execution_count": 16,
     "metadata": {},
     "output_type": "execute_result"
    }
   ],
   "source": [
    "def addfunc(a,b):\n",
    "    return sum((a,b))\n",
    "\n",
    "addfunc(10,2)"
   ]
  },
  {
   "cell_type": "code",
   "execution_count": 19,
   "id": "7b2ce175",
   "metadata": {},
   "outputs": [
    {
     "data": {
      "text/plain": [
       "3245"
      ]
     },
     "execution_count": 19,
     "metadata": {},
     "output_type": "execute_result"
    }
   ],
   "source": [
    "def addfunc(*args):\n",
    "    return sum(args)\n",
    "\n",
    "addfunc(10,2,9,1837,1387)"
   ]
  },
  {
   "cell_type": "code",
   "execution_count": 23,
   "id": "21a21fa2",
   "metadata": {},
   "outputs": [
    {
     "name": "stdout",
     "output_type": "stream",
     "text": [
      "hi idk\n",
      "hi idk\n",
      "hi idk\n",
      "hi class\n"
     ]
    }
   ],
   "source": [
    "def greeting(name = 'idk'): #default variable\n",
    "    print(f'hi {name}')\n",
    "    \n",
    "for x in range(3):\n",
    "    greeting()\n",
    "\n",
    "greeting('class')"
   ]
  },
  {
   "cell_type": "code",
   "execution_count": 26,
   "id": "e8fac9d9",
   "metadata": {},
   "outputs": [
    {
     "name": "stdout",
     "output_type": "stream",
     "text": [
      "my name is shirley\n"
     ]
    }
   ],
   "source": [
    "def identity(**kwargs):\n",
    "    if 'name' in kwargs:\n",
    "        print('my name is {}'.format(kwargs['name']))\n",
    "    else:\n",
    "        print('idk')\n",
    "        \n",
    "identity(name = 'shirley', location = 'nyc', teaching = 'python')"
   ]
  },
  {
   "cell_type": "code",
   "execution_count": 29,
   "id": "e54c7203",
   "metadata": {},
   "outputs": [
    {
     "data": {
      "text/plain": [
       "False"
      ]
     },
     "execution_count": 29,
     "metadata": {},
     "output_type": "execute_result"
    }
   ],
   "source": [
    "def checker(num_list):\n",
    "    for num in num_list:\n",
    "        if num%2 == 0:\n",
    "            return True\n",
    "        else:\n",
    "            pass\n",
    "        return False\n",
    "checker([1,3,5])"
   ]
  },
  {
   "cell_type": "code",
   "execution_count": 33,
   "id": "57b5df40",
   "metadata": {},
   "outputs": [
    {
     "data": {
      "text/plain": [
       "[2, 4, 6]"
      ]
     },
     "execution_count": 33,
     "metadata": {},
     "output_type": "execute_result"
    }
   ],
   "source": [
    "def checkerr(list):\n",
    "    evens = []\n",
    "    \n",
    "    for num in list:\n",
    "        if num%2 == 0:\n",
    "            evens.append(num)\n",
    "        else:\n",
    "            pass\n",
    "    return evens\n",
    "\n",
    "checkerr([2,4,6,7])"
   ]
  },
  {
   "cell_type": "code",
   "execution_count": 36,
   "id": "86598ea4",
   "metadata": {},
   "outputs": [
    {
     "name": "stdout",
     "output_type": "stream",
     "text": [
      "leeg\n"
     ]
    }
   ],
   "source": [
    "def makeID(last, first):\n",
    "    \"\"\"\n",
    "    make an ID\n",
    "    \n",
    "    params:\n",
    "    last = last name\n",
    "    first = first name\n",
    "    \n",
    "    return:\n",
    "    uID\n",
    "    \"\"\"\n",
    "    \n",
    "    return(last[:4] + first[0])\n",
    "\n",
    "uID = makeID('lee', 'gabriel')\n",
    "print(uID)"
   ]
  },
  {
   "cell_type": "code",
   "execution_count": 42,
   "id": "9d5e2244",
   "metadata": {},
   "outputs": [
    {
     "data": {
      "text/plain": [
       "('altmann', 455)"
      ]
     },
     "execution_count": 42,
     "metadata": {},
     "output_type": "execute_result"
    }
   ],
   "source": [
    "def checkk(scoreboard):\n",
    "    for player, score in scoreboard:\n",
    "        hiscore = 0\n",
    "        winner = ''\n",
    "    \n",
    "        if score > hiscore:\n",
    "            hiscore = score\n",
    "            winner = player\n",
    "        else:\n",
    "            pass\n",
    "    return(winner, hiscore)\n",
    "\n",
    "scoreboard = [('bb',3000), ('miaou', 56), ('altmann', 455)]\n",
    "checkk(scoreboard)"
   ]
  },
  {
   "cell_type": "code",
   "execution_count": null,
   "id": "41f0dac4",
   "metadata": {},
   "outputs": [],
   "source": [
    "from random import shuffle\n",
    "#from is library, import methods"
   ]
  },
  {
   "cell_type": "code",
   "execution_count": 46,
   "id": "0fd53c28",
   "metadata": {
    "scrolled": true
   },
   "outputs": [
    {
     "name": "stdout",
     "output_type": "stream",
     "text": [
      "2\n",
      "4\n",
      "6\n",
      "8\n"
     ]
    }
   ],
   "source": [
    "def double(num):\n",
    "    return num*2\n",
    "num = [1,2,3,4]\n",
    "map(double, num)\n",
    "\n",
    "for num in map(double, num):\n",
    "    print(num)"
   ]
  },
  {
   "cell_type": "code",
   "execution_count": 58,
   "id": "a786c48f",
   "metadata": {},
   "outputs": [
    {
     "data": {
      "text/plain": [
       "['ann', 'nope', 'nope']"
      ]
     },
     "execution_count": 58,
     "metadata": {},
     "output_type": "execute_result"
    }
   ],
   "source": [
    "def alphabet(string):\n",
    "    if string[0] == 'a':\n",
    "        return string\n",
    "    else:\n",
    "        return 'nope'\n",
    "    \n",
    "names = ['ann','kal','pie']\n",
    "\n",
    "list(map(alphabet,names))"
   ]
  },
  {
   "cell_type": "code",
   "execution_count": 57,
   "id": "4f92a399",
   "metadata": {},
   "outputs": [
    {
     "data": {
      "text/plain": [
       "['ann', 'anka', 'alphabet']"
      ]
     },
     "execution_count": 57,
     "metadata": {},
     "output_type": "execute_result"
    }
   ],
   "source": [
    "def alphabet(string):\n",
    "    if string[0] == 'a':\n",
    "        return string\n",
    "    \n",
    "names = ['ann','kal','pie', 'anka', 'alphabet']\n",
    "\n",
    "list(filter(alphabet,names))"
   ]
  },
  {
   "cell_type": "code",
   "execution_count": 61,
   "id": "1e0fbef9",
   "metadata": {},
   "outputs": [
    {
     "data": {
      "text/plain": [
       "[2, 4]"
      ]
     },
     "execution_count": 61,
     "metadata": {},
     "output_type": "execute_result"
    }
   ],
   "source": [
    "def even(num):\n",
    "    return num%2 == 0\n",
    "\n",
    "mynums = [1,2,3,4,5]\n",
    "list(filter(even,mynums))"
   ]
  },
  {
   "cell_type": "code",
   "execution_count": 60,
   "id": "2c5282e9",
   "metadata": {},
   "outputs": [
    {
     "name": "stdout",
     "output_type": "stream",
     "text": [
      "2\n",
      "4\n"
     ]
    }
   ],
   "source": [
    "def even(num):\n",
    "    return num%2 == 0\n",
    "\n",
    "mynums = [1,2,3,4,5]\n",
    "\n",
    "for num in filter(even, mynums):\n",
    "    print(num)"
   ]
  },
  {
   "cell_type": "code",
   "execution_count": 63,
   "id": "c981e423",
   "metadata": {
    "scrolled": true
   },
   "outputs": [
    {
     "data": {
      "text/plain": [
       "4"
      ]
     },
     "execution_count": 63,
     "metadata": {},
     "output_type": "execute_result"
    }
   ],
   "source": [
    "double = lambda number:number*2\n",
    "double(2)\n",
    "\n",
    "# the more functions you write, the more memory they take up—good for latency / memory / execution"
   ]
  },
  {
   "cell_type": "code",
   "execution_count": 64,
   "id": "2bfd1ae7",
   "metadata": {},
   "outputs": [
    {
     "data": {
      "text/plain": [
       "[2, 4, 6, 8, 10]"
      ]
     },
     "execution_count": 64,
     "metadata": {},
     "output_type": "execute_result"
    }
   ],
   "source": [
    "list(map(lambda number:number*2, mynums))"
   ]
  },
  {
   "cell_type": "code",
   "execution_count": 66,
   "id": "ec0b864b",
   "metadata": {},
   "outputs": [
    {
     "data": {
      "text/plain": [
       "[2, 4]"
      ]
     },
     "execution_count": 66,
     "metadata": {},
     "output_type": "execute_result"
    }
   ],
   "source": [
    "list(filter(lambda number:number%2==0, mynums))"
   ]
  },
  {
   "cell_type": "code",
   "execution_count": 67,
   "id": "bfd46429",
   "metadata": {},
   "outputs": [
    {
     "data": {
      "text/plain": [
       "['a', 'k', 'p']"
      ]
     },
     "execution_count": 67,
     "metadata": {},
     "output_type": "execute_result"
    }
   ],
   "source": [
    "list(map(lambda name:name[0], names)) #in variable name, grab first letter for all names in names list"
   ]
  },
  {
   "cell_type": "code",
   "execution_count": 68,
   "id": "d2a91df8",
   "metadata": {},
   "outputs": [
    {
     "data": {
      "text/plain": [
       "['nna', 'lak', 'eip']"
      ]
     },
     "execution_count": 68,
     "metadata": {},
     "output_type": "execute_result"
    }
   ],
   "source": [
    "list(map(lambda name:name[::-1], names)) #in variable name, grab first letter for all names in names list"
   ]
  },
  {
   "cell_type": "code",
   "execution_count": 70,
   "id": "ee04c4d0",
   "metadata": {},
   "outputs": [
    {
     "data": {
      "text/plain": [
       "['Ann', 'Kal', 'Pie']"
      ]
     },
     "execution_count": 70,
     "metadata": {},
     "output_type": "execute_result"
    }
   ],
   "source": [
    "list(map(lambda name:name.title(), names)) #in variable name, grab first letter for all names in names list"
   ]
  },
  {
   "cell_type": "code",
   "execution_count": 80,
   "id": "49a78006",
   "metadata": {},
   "outputs": [
    {
     "name": "stdout",
     "output_type": "stream",
     "text": [
      "[3, 5, 7, 9]\n"
     ]
    }
   ],
   "source": [
    "my_list = [3,4,5,6,7,8,9,0]\n",
    "final_list = list(filter(lambda x:x%2, my_list))\n",
    "print(final_list)"
   ]
  },
  {
   "cell_type": "code",
   "execution_count": 81,
   "id": "a120a08d",
   "metadata": {},
   "outputs": [],
   "source": [
    "# ERROR HANDLINGGG"
   ]
  },
  {
   "cell_type": "code",
   "execution_count": 95,
   "id": "2e4241bd",
   "metadata": {
    "scrolled": true
   },
   "outputs": [
    {
     "name": "stdout",
     "output_type": "stream",
     "text": [
      "pls: djknfkjds\n",
      "nope\n",
      ">_< tired\n",
      "pls: 9\n",
      "ok you entered a number\n",
      ">_< tired\n"
     ]
    }
   ],
   "source": [
    "def enterNumber():\n",
    "    while True:\n",
    "        try:\n",
    "            value = int(input('pls: '))\n",
    "        except:\n",
    "            print('nope')\n",
    "            continue\n",
    "        else:\n",
    "            print('ok you entered a number')\n",
    "            break\n",
    "        finally:\n",
    "            print('>_< tired')\n",
    "\n",
    "enterNumber()"
   ]
  },
  {
   "cell_type": "code",
   "execution_count": null,
   "id": "3e85f715",
   "metadata": {},
   "outputs": [],
   "source": []
  },
  {
   "cell_type": "code",
   "execution_count": null,
   "id": "5313bc26",
   "metadata": {},
   "outputs": [],
   "source": []
  },
  {
   "cell_type": "code",
   "execution_count": null,
   "id": "5f38f494",
   "metadata": {},
   "outputs": [],
   "source": []
  },
  {
   "cell_type": "code",
   "execution_count": null,
   "id": "e6cf1236",
   "metadata": {},
   "outputs": [],
   "source": []
  }
 ],
 "metadata": {
  "kernelspec": {
   "display_name": "Python 3 (ipykernel)",
   "language": "python",
   "name": "python3"
  },
  "language_info": {
   "codemirror_mode": {
    "name": "ipython",
    "version": 3
   },
   "file_extension": ".py",
   "mimetype": "text/x-python",
   "name": "python",
   "nbconvert_exporter": "python",
   "pygments_lexer": "ipython3",
   "version": "3.9.13"
  }
 },
 "nbformat": 4,
 "nbformat_minor": 5
}
