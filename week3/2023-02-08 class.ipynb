{
 "cells": [
  {
   "cell_type": "code",
   "execution_count": 1,
   "id": "2359f62f",
   "metadata": {},
   "outputs": [
    {
     "name": "stdout",
     "output_type": "stream",
     "text": [
      "condition not met\n"
     ]
    }
   ],
   "source": [
    "x = False\n",
    "if x:\n",
    "    print(\"condition met\")\n",
    "else:\n",
    "    print(\"condition not met\")"
   ]
  },
  {
   "cell_type": "code",
   "execution_count": 2,
   "id": "695738fd",
   "metadata": {},
   "outputs": [
    {
     "name": "stdout",
     "output_type": "stream",
     "text": [
      "condition met\n"
     ]
    }
   ],
   "source": [
    "x = False\n",
    "if not x:\n",
    "    print(\"condition met\")\n",
    "else:\n",
    "    print(\"condition not met\")"
   ]
  },
  {
   "cell_type": "code",
   "execution_count": 3,
   "id": "7ae68c60",
   "metadata": {},
   "outputs": [
    {
     "name": "stdout",
     "output_type": "stream",
     "text": [
      "x < y\n"
     ]
    }
   ],
   "source": [
    "x = 10\n",
    "y = 20\n",
    "if x < y:\n",
    "    print(\"x < y\")\n",
    "else:\n",
    "    print(\"x >= y\")"
   ]
  },
  {
   "cell_type": "code",
   "execution_count": 8,
   "id": "5445b595",
   "metadata": {},
   "outputs": [
    {
     "name": "stdout",
     "output_type": "stream",
     "text": [
      "no\n"
     ]
    }
   ],
   "source": [
    "if 1<3 and 1>2:\n",
    "    print(\"yes\")\n",
    "else:\n",
    "    print(\"no\")"
   ]
  },
  {
   "cell_type": "code",
   "execution_count": 17,
   "id": "9dca3cee",
   "metadata": {},
   "outputs": [
    {
     "name": "stdout",
     "output_type": "stream",
     "text": [
      "meow meow meow meow\n"
     ]
    }
   ],
   "source": [
    "x = 21\n",
    "if x<20:\n",
    "    print(\"x<20\")\n",
    "elif x==20:\n",
    "    print(\"x=20\")\n",
    "elif x>20:\n",
    "    print(\"meow meow meow meow\")\n",
    "else:\n",
    "    print(\"idek man\")"
   ]
  },
  {
   "cell_type": "code",
   "execution_count": 19,
   "id": "79220568",
   "metadata": {},
   "outputs": [
    {
     "name": "stdout",
     "output_type": "stream",
     "text": [
      "h\n",
      "e\n",
      "l\n",
      "l\n",
      "o\n",
      "o\n",
      "o\n",
      "o\n",
      "o\n",
      "o\n",
      "o\n",
      " \n",
      "D\n",
      ":\n",
      "<\n"
     ]
    }
   ],
   "source": [
    "for letter in \"hellooooooo D:<\":\n",
    "    print(letter)"
   ]
  },
  {
   "cell_type": "code",
   "execution_count": 22,
   "id": "c18df75a",
   "metadata": {},
   "outputs": [
    {
     "name": "stdout",
     "output_type": "stream",
     "text": [
      "blue\n",
      "bloo\n",
      "bleu\n",
      "bl¨ü\n",
      "['blue', 'bloo', 'bleu', 'bl¨ü', 'red', 'read']\n"
     ]
    }
   ],
   "source": [
    "lsst = ['blue', 'bloo', 'bleu', 'bl¨ü']\n",
    "for color in lsst:\n",
    "    print(color)\n",
    "    \n",
    "lssst = ['red', 'read']\n",
    "\n",
    "for color in lssst:\n",
    "    lsst.append(color)\n",
    "\n",
    "print(lsst)"
   ]
  },
  {
   "cell_type": "code",
   "execution_count": 24,
   "id": "29153028",
   "metadata": {},
   "outputs": [
    {
     "name": "stdout",
     "output_type": "stream",
     "text": [
      "oddening\n",
      "evening\n",
      "oddening\n",
      "evening\n",
      "oddening\n",
      "evening\n",
      "oddening\n",
      "evening\n",
      "oddening\n",
      "evening\n"
     ]
    }
   ],
   "source": [
    "numbers = [1,2,3,4,5,6,7,8,9,10]\n",
    "for number in numbers:\n",
    "    if(number%2 == 0):\n",
    "        print(\"evening\")\n",
    "    else:\n",
    "        print(\"oddening\")"
   ]
  },
  {
   "cell_type": "code",
   "execution_count": 26,
   "id": "a743d7c0",
   "metadata": {},
   "outputs": [
    {
     "data": {
      "text/plain": [
       "5"
      ]
     },
     "execution_count": 26,
     "metadata": {},
     "output_type": "execute_result"
    }
   ],
   "source": [
    "#tuple unpacking\n",
    "\n",
    "tupa_tups = [(1,2),(3,4),(5,6),(7,8),(9,10)]\n",
    "len(tupa_tups)"
   ]
  },
  {
   "cell_type": "code",
   "execution_count": 27,
   "id": "009fe9fc",
   "metadata": {},
   "outputs": [
    {
     "name": "stdout",
     "output_type": "stream",
     "text": [
      "(1, 2)\n",
      "(3, 4)\n",
      "(5, 6)\n",
      "(7, 8)\n",
      "(9, 10)\n"
     ]
    }
   ],
   "source": [
    "for pair in tupa_tups:\n",
    "    print(pair)"
   ]
  },
  {
   "cell_type": "code",
   "execution_count": 34,
   "id": "932fb439",
   "metadata": {},
   "outputs": [
    {
     "name": "stdout",
     "output_type": "stream",
     "text": [
      "1 2\n",
      "3 4\n",
      "5 6\n",
      "7 8\n",
      "9 10\n"
     ]
    }
   ],
   "source": [
    "#you don't need the parentheses (x,y) — with the comma, it already knows you're calling a tuple\n",
    "for x,y in tupa_tups:\n",
    "    print(x,y)"
   ]
  },
  {
   "cell_type": "code",
   "execution_count": 42,
   "id": "d892b615",
   "metadata": {},
   "outputs": [
    {
     "name": "stdout",
     "output_type": "stream",
     "text": [
      "('k1', 1)\n",
      "('k2', 2)\n",
      "('k3', 3)\n",
      "k1\n",
      "k2\n",
      "k3\n",
      "1\n",
      "2\n",
      "3\n",
      "1\n",
      "2\n",
      "3\n"
     ]
    }
   ],
   "source": [
    "# ways to look at a dictionary\n",
    "# looking inside a dictionary, using the , tells it to isolate the key and value from inside the dict\n",
    "\n",
    "dictee = {'k1':1,'k2':2,'k3':3}\n",
    "for i in dictee.items():\n",
    "    print(i)\n",
    "    \n",
    "for key,value in dictee.items():\n",
    "    print(key)\n",
    "    \n",
    "for key,value in dictee.items():\n",
    "    print(value)\n",
    "    \n",
    "for value in dictee.values():\n",
    "    print(value)"
   ]
  },
  {
   "cell_type": "code",
   "execution_count": 47,
   "id": "9edfb26e",
   "metadata": {},
   "outputs": [
    {
     "name": "stdout",
     "output_type": "stream",
     "text": [
      "2\n",
      "3\n",
      "4\n",
      "5\n",
      "6\n",
      "i am finished at last i can rest\n"
     ]
    }
   ],
   "source": [
    "x = 1\n",
    "while x <= 5:\n",
    "    x+=1\n",
    "    print(x)\n",
    "else:\n",
    "    print('i am finished at last i can rest')"
   ]
  },
  {
   "cell_type": "code",
   "execution_count": 49,
   "id": "cd4e4c02",
   "metadata": {},
   "outputs": [],
   "source": [
    "#break, continue, pass = more protected words\n",
    "    # break = breaks out of current enclosing loop\n",
    "    # continue = goes to the top of current enclosing loop\n",
    "    # pass = does nothing\n",
    "\n",
    "# for thing in \"something\":\n",
    "#     #skip this — don't execute the space code under it\n",
    "#     pass"
   ]
  },
  {
   "cell_type": "code",
   "execution_count": 57,
   "id": "ab9f9de2",
   "metadata": {},
   "outputs": [
    {
     "name": "stdout",
     "output_type": "stream",
     "text": [
      "x is currently  0\n",
      "x is still less than 3, adding 1 to x\n",
      "continuing...\n",
      "x is currently  1\n",
      "x is still less than 3, adding 1 to x\n",
      "continuing...\n",
      "x is currently  2\n",
      "x is still less than 3, adding 1 to x\n",
      "x = 3\n",
      "x is currently  3\n",
      "x is still less than 3, adding 1 to x\n",
      "continuing...\n"
     ]
    }
   ],
   "source": [
    "x = 0\n",
    "while x<=3:\n",
    "    print(\"x is currently\", x)\n",
    "    print(\"x is still less than 3, adding 1 to x\")\n",
    "    x+=1\n",
    "    if x==3:\n",
    "        print('x = 3')\n",
    "    else:\n",
    "        print('continuing...')\n",
    "        continue"
   ]
  },
  {
   "cell_type": "code",
   "execution_count": 61,
   "id": "2e379d88",
   "metadata": {},
   "outputs": [
    {
     "name": "stdout",
     "output_type": "stream",
     "text": [
      "x is currently... 0\n",
      "x is still less than 3, adding 1 to x\n",
      "keep going\n",
      "x is currently... 1\n",
      "x is still less than 3, adding 1 to x\n",
      "keep going\n",
      "x is currently... 2\n",
      "x is still less than 3, adding 1 to x\n",
      "breaky breaky because x finally reached 3\n"
     ]
    }
   ],
   "source": [
    "x = 0\n",
    "while x<=3:\n",
    "    print(\"x is currently...\",x)\n",
    "    print(\"x is still less than 3, adding 1 to x\")\n",
    "    x+=1\n",
    "    if x==3:\n",
    "        print(\"breaky breaky because x finally reached\",x)\n",
    "        break\n",
    "    else:\n",
    "        print(\"keep going\")"
   ]
  },
  {
   "cell_type": "code",
   "execution_count": 64,
   "id": "811afc81",
   "metadata": {},
   "outputs": [
    {
     "name": "stdout",
     "output_type": "stream",
     "text": [
      "[0, 1, 4, 9, 16, 25, 36, 49, 64, 81]\n"
     ]
    }
   ],
   "source": [
    "# list comprehension\n",
    "squares = []\n",
    "for i in range(10):\n",
    "    squares.append(i*i)\n",
    "print(squares)\n",
    "    "
   ]
  },
  {
   "cell_type": "code",
   "execution_count": 62,
   "id": "d1f6caa0",
   "metadata": {},
   "outputs": [
    {
     "data": {
      "text/plain": [
       "range(0, 10)"
      ]
     },
     "execution_count": 62,
     "metadata": {},
     "output_type": "execute_result"
    }
   ],
   "source": [
    "range(10)"
   ]
  },
  {
   "cell_type": "code",
   "execution_count": 71,
   "id": "11e8bc60",
   "metadata": {
    "scrolled": true
   },
   "outputs": [
    {
     "name": "stdout",
     "output_type": "stream",
     "text": [
      "[0, 1, 4, 9, 16, 25, 36, 49, 64, 81]\n"
     ]
    }
   ],
   "source": [
    "newsquares = [i*i for i in range(10)]\n",
    "print(newsquares)"
   ]
  },
  {
   "cell_type": "code",
   "execution_count": 72,
   "id": "359f270b",
   "metadata": {
    "scrolled": true
   },
   "outputs": [
    {
     "name": "stdout",
     "output_type": "stream",
     "text": [
      "[1, 9, 25, 49, 81]\n"
     ]
    }
   ],
   "source": [
    "newsquares = [i*i for i in range(10) if i%2!=0]\n",
    "print(newsquares)"
   ]
  },
  {
   "cell_type": "code",
   "execution_count": 80,
   "id": "059547bf",
   "metadata": {},
   "outputs": [
    {
     "name": "stdout",
     "output_type": "stream",
     "text": [
      "[32, 50, 122, 41, 90]\n"
     ]
    }
   ],
   "source": [
    "celsius = [0,10,50,5,32.2222]\n",
    "fahrenheit =[round((9/5)*temperature+32) for temperature in celsius]\n",
    "print(fahrenheit)"
   ]
  },
  {
   "cell_type": "code",
   "execution_count": null,
   "id": "3fe35fa4",
   "metadata": {},
   "outputs": [],
   "source": [
    "# F U N C T I O N S"
   ]
  },
  {
   "cell_type": "code",
   "execution_count": 86,
   "id": "ef208cf2",
   "metadata": {},
   "outputs": [
    {
     "name": "stdout",
     "output_type": "stream",
     "text": [
      "sup boyyyy\n",
      "Help on function greeting in module __main__:\n",
      "\n",
      "greeting(name)\n",
      "    This is a greetings function\n",
      "    \n",
      "    Arguments\n",
      "        name = who are u greeting\n",
      "\n"
     ]
    }
   ],
   "source": [
    "def greeting(name):\n",
    "    \"\"\"This is a greetings function\n",
    "    \n",
    "    Arguments\n",
    "        name = who are u greeting\n",
    "    \n",
    "    \"\"\"\n",
    "    print(\"sup\",name)\n",
    "    \n",
    "greeting('boyyyy')\n",
    "\n",
    "#this grabs the docstring text yayyy\n",
    "help(greeting)"
   ]
  },
  {
   "cell_type": "code",
   "execution_count": 109,
   "id": "0bca9ba6",
   "metadata": {},
   "outputs": [
    {
     "name": "stdout",
     "output_type": "stream",
     "text": [
      "hello i am local to greeting and enclosing to hello\n"
     ]
    }
   ],
   "source": [
    "name = \"i am global\"\n",
    "\n",
    "def greeting():\n",
    "    #enclosing to hello\n",
    "    #local to greeting\n",
    "    name = \"i am local to greeting and enclosing to hello\"\n",
    "    def hello():\n",
    "        #local to hello\n",
    "        #name = \"i am local to hello\"\n",
    "        print(\"hello\",name)\n",
    "    hello()\n",
    "greeting()\n",
    "\n",
    "#the legb community"
   ]
  },
  {
   "cell_type": "code",
   "execution_count": null,
   "id": "14cab644",
   "metadata": {},
   "outputs": [],
   "source": []
  },
  {
   "cell_type": "code",
   "execution_count": null,
   "id": "59c7ab98",
   "metadata": {},
   "outputs": [],
   "source": []
  },
  {
   "cell_type": "code",
   "execution_count": null,
   "id": "50a7a7ac",
   "metadata": {},
   "outputs": [],
   "source": []
  },
  {
   "cell_type": "code",
   "execution_count": null,
   "id": "e8fac9d9",
   "metadata": {},
   "outputs": [],
   "source": []
  }
 ],
 "metadata": {
  "kernelspec": {
   "display_name": "Python 3 (ipykernel)",
   "language": "python",
   "name": "python3"
  },
  "language_info": {
   "codemirror_mode": {
    "name": "ipython",
    "version": 3
   },
   "file_extension": ".py",
   "mimetype": "text/x-python",
   "name": "python",
   "nbconvert_exporter": "python",
   "pygments_lexer": "ipython3",
   "version": "3.9.13"
  }
 },
 "nbformat": 4,
 "nbformat_minor": 5
}
