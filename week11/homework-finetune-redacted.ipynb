{
 "cells": [
  {
   "cell_type": "markdown",
   "metadata": {},
   "source": [
    "# Anti-trans bills\n",
    "I used the data from my Major Studio 2 project to fine-tune GPT-3.\n",
    "\n",
    "Prompt: State names. \n",
    "\n",
    "Completion: Title of bill, usually describing the purpose of the bill."
   ]
  },
  {
   "cell_type": "markdown",
   "metadata": {},
   "source": [
    "## Terminal code"
   ]
  },
  {
   "cell_type": "code",
   "execution_count": null,
   "metadata": {},
   "outputs": [],
   "source": [
    "export OPENAI_API_KEY=\"<redacted>\""
   ]
  },
  {
   "cell_type": "code",
   "execution_count": null,
   "metadata": {},
   "outputs": [],
   "source": [
    "# run this in terminal (in same directory as the csv file)\n",
    "# respond Y to all 3 qestions \n",
    "# it may take a few mins to run \n",
    "openai tools fine_tunes.prepare_data -f billtitles.csv"
   ]
  },
  {
   "cell_type": "code",
   "execution_count": 20,
   "metadata": {},
   "outputs": [],
   "source": [
    "#run the following, you may get interrupted. \n",
    "#Follow instructions to keep running until the model is completed\n",
    "#If stream interrupted (client disconnected).\n",
    "#To resume the stream, run: openai api fine_tunes.follow -i ft-4ZRdenRYxFd0gGUOhmndxlOD\n",
    "#It will take a few mins \n",
    "openai api fine_tunes.create -t billtitles_prepared.jsonl -m curie"
   ]
  },
  {
   "cell_type": "markdown",
   "metadata": {},
   "source": [
    "## Jupyter code"
   ]
  },
  {
   "cell_type": "code",
   "execution_count": 2,
   "metadata": {},
   "outputs": [],
   "source": [
    "import openai"
   ]
  },
  {
   "cell_type": "code",
   "execution_count": 5,
   "metadata": {},
   "outputs": [],
   "source": [
    "openai.api_key=\"<redacted>\""
   ]
  },
  {
   "cell_type": "markdown",
   "metadata": {},
   "source": [
    "### Prompt with fine-tuned model"
   ]
  },
  {
   "cell_type": "code",
   "execution_count": 20,
   "metadata": {},
   "outputs": [],
   "source": [
    "#look at model results \n",
    "response = openai.Completion.create(\n",
    "    model=\"<redacted>\",\n",
    "    prompt=\"Idaho\",\n",
    "    temperature=0.2, #randomness \n",
    "    max_tokens=100, #charaters in response \n",
    "    top_p=1, #controls diversity\n",
    "    frequency_penalty=0, #decrease repetition \n",
    "    presence_penalty=0 #increase likelihood to talk about new topic \n",
    ")"
   ]
  },
  {
   "cell_type": "code",
   "execution_count": 21,
   "metadata": {
    "scrolled": true
   },
   "outputs": [
    {
     "name": "stdout",
     "output_type": "stream",
     "text": [
      " Code § 18-208.5; and\n",
      "\n",
      "Idaho Code § 18-208.6\n",
      "\n",
      "The purpose of this bill is to prohibit the use of public funds, public facilities, or public employees for the purpose of hosting or supporting drag shows or other performances that include lewd or lascivious acts.\n",
      "\n",
      "Drag shows and other performances that include lewd or lascivious acts are prohibited in public schools.\n",
      "\n",
      "The bill prohibits public funds, public facilities, or public employees\n"
     ]
    }
   ],
   "source": [
    "result = response.choices[0].text\n",
    "print(result)"
   ]
  },
  {
   "cell_type": "markdown",
   "metadata": {},
   "source": [
    "### Same prompt with general model"
   ]
  },
  {
   "cell_type": "code",
   "execution_count": 14,
   "metadata": {},
   "outputs": [],
   "source": [
    "response = openai.Completion.create(\n",
    "  model=\"text-davinci-002\",\n",
    "  prompt=\"Idaho\",\n",
    "  temperature=0.4,\n",
    "  max_tokens=100,\n",
    "  top_p=1.0,\n",
    "  frequency_penalty=0.0,\n",
    "  presence_penalty=0.0\n",
    ")"
   ]
  },
  {
   "cell_type": "code",
   "execution_count": 15,
   "metadata": {
    "scrolled": true
   },
   "outputs": [
    {
     "name": "stdout",
     "output_type": "stream",
     "text": [
      "\n",
      "\n",
      "Indiana\n",
      "\n",
      "Iowa\n",
      "\n",
      "Kansas\n",
      "\n",
      "Kentucky\n",
      "\n",
      "Louisiana\n",
      "\n",
      "Maine\n",
      "\n",
      "Maryland\n",
      "\n",
      "Massachusetts\n",
      "\n",
      "Michigan\n",
      "\n",
      "Minnesota\n",
      "\n",
      "Mississippi\n",
      "\n",
      "Missouri\n",
      "\n",
      "Montana\n",
      "\n",
      "Nebraska\n",
      "\n",
      "Nevada\n",
      "\n",
      "New Hampshire\n",
      "\n",
      "New Jersey\n",
      "\n",
      "New Mexico\n",
      "\n",
      "New York\n",
      "\n",
      "North Carolina\n",
      "\n",
      "North Dakota\n",
      "\n",
      "Ohio\n",
      "\n",
      "Oklahoma\n",
      "\n",
      "Oregon\n",
      "\n",
      "Pennsylvania\n",
      "\n",
      "Rhode Island\n",
      "\n"
     ]
    }
   ],
   "source": [
    "result = response.choices[0].text\n",
    "print(result)"
   ]
  },
  {
   "cell_type": "markdown",
   "metadata": {},
   "source": [
    "# More prompts"
   ]
  },
  {
   "cell_type": "code",
   "execution_count": 23,
   "metadata": {},
   "outputs": [],
   "source": [
    "response = openai.Completion.create(\n",
    "    model=\"<redacted>\",\n",
    "    prompt=\"Hawaii\",\n",
    "    temperature=0.6, #randomness \n",
    "    max_tokens=200, #charaters in response \n",
    "    top_p=1, #controls diversity\n",
    "    frequency_penalty=0.25, #decrease repetition \n",
    "    presence_penalty=0.25 #increase likelihood to talk about new topic \n",
    ")"
   ]
  },
  {
   "cell_type": "code",
   "execution_count": 24,
   "metadata": {
    "scrolled": true
   },
   "outputs": [
    {
     "name": "stdout",
     "output_type": "stream",
     "text": [
      ": Adopt The Gender Neutral Law Act\n",
      "\n",
      "Sponsor: HConRES.105.F, SUBSTITUTE THE FOLLOWING SENTENCE TO READ: \"A school or district may not require a pupil to use the name or pronoun that is inconsistent with the pupil's sex if the name or pronoun is inconsistent with the pupil's sex, unless the school or district has adopted a policy regarding the use of names and pronouns consistent with this subsection.\"\n",
      "\n",
      "Related bill: HConRES.105.A, Amend Certain Provisions Of The Education Law; Substitute The Term \"Males\" For \"Boys\" In Certain Places.\n",
      "\n",
      "Last Action: Referred to the Subcommittee on Education.\n",
      "\n",
      "Hawaii: Establish The Sex Equality Act\n",
      "\n",
      "Sponsor: HConRES.105.G, SUBSTITUTE THE FOLLOWING SENTENCE TO READ: \"A school or district may not require a pupil to use the name or pronoun that\n"
     ]
    }
   ],
   "source": [
    "result = response.choices[0].text\n",
    "print(result)"
   ]
  },
  {
   "cell_type": "code",
   "execution_count": 25,
   "metadata": {},
   "outputs": [],
   "source": [
    "response = openai.Completion.create(\n",
    "    model=\"<redacted>\",\n",
    "    prompt=\"Hawaii\",\n",
    "    temperature=0.9, #randomness \n",
    "    max_tokens=50, #charaters in response \n",
    "    top_p=1, #controls diversity\n",
    "    frequency_penalty=0.25, #decrease repetition \n",
    "    presence_penalty=0.25 #increase likelihood to talk about new topic \n",
    ")"
   ]
  },
  {
   "cell_type": "code",
   "execution_count": 26,
   "metadata": {
    "scrolled": true
   },
   "outputs": [
    {
     "name": "stdout",
     "output_type": "stream",
     "text": [
      " Pregnancy Discrimination Act\n",
      "\n",
      "Hawaii law prohibits employers with fifteen or more employees from discriminating against an employee on the basis of pregnancy, childbirth, or related medical conditions. Employers with one through fourteen employees must provide reasonable accommodations to pregnant and/or\n"
     ]
    }
   ],
   "source": [
    "result = response.choices[0].text\n",
    "print(result)"
   ]
  },
  {
   "cell_type": "code",
   "execution_count": 27,
   "metadata": {},
   "outputs": [],
   "source": [
    "response = openai.Completion.create(\n",
    "    model=\"<redacted>\",\n",
    "    prompt=\"Hawaii\",\n",
    "    temperature=0.2, #randomness \n",
    "    max_tokens=50, #charaters in response \n",
    "    top_p=1, #controls diversity\n",
    "    frequency_penalty=0, #decrease repetition \n",
    "    presence_penalty=0 #increase likelihood to talk about new topic \n",
    ")"
   ]
  },
  {
   "cell_type": "code",
   "execution_count": 28,
   "metadata": {
    "scrolled": false
   },
   "outputs": [
    {
     "name": "stdout",
     "output_type": "stream",
     "text": [
      "’s public schools are required to provide students with a “free and appropriate” education (FAPE). FAPE is defined as “an education that is inclusive, equitable, and nondiscriminatory.”\n",
      "\n",
      "The\n"
     ]
    }
   ],
   "source": [
    "result = response.choices[0].text\n",
    "print(result)"
   ]
  },
  {
   "cell_type": "code",
   "execution_count": 29,
   "metadata": {},
   "outputs": [],
   "source": [
    "# I am lazy! Let's make a lazy function so I don't have to copy all these cells.\n",
    "def genbill(yourprompt):\n",
    "    response = openai.Completion.create(\n",
    "        model=\"<redacted>\",\n",
    "        prompt=yourprompt,\n",
    "        temperature=0.2, #randomness \n",
    "        max_tokens=50, #charaters in response \n",
    "        top_p=1, #controls diversity\n",
    "        frequency_penalty=0, #decrease repetition \n",
    "        presence_penalty=0 #increase likelihood to talk about new topic \n",
    "    )\n",
    "    result = response.choices[0].text\n",
    "    print(result)"
   ]
  },
  {
   "cell_type": "code",
   "execution_count": 30,
   "metadata": {
    "scrolled": true
   },
   "outputs": [
    {
     "name": "stdout",
     "output_type": "stream",
     "text": [
      " -> A bill to provide for the regulation of gender transition procedures.\n",
      "\n",
      "A bill to provide for the regulation of gender transition procedures.\n",
      "\n",
      "A BILL to provide for the regulation of gender transition procedures.\n",
      "\n",
      "A BILL to provide for\n"
     ]
    }
   ],
   "source": [
    "genbill(\"Ireland\")"
   ]
  },
  {
   "cell_type": "code",
   "execution_count": 31,
   "metadata": {
    "scrolled": false
   },
   "outputs": [
    {
     "name": "stdout",
     "output_type": "stream",
     "text": [
      ": The government has announced plans to introduce a new offence of female genital mutilation (FGM) in the UK. The offence will be created by the Children and Families Bill, which is currently being debated in the House of Lords. The Bill will\n"
     ]
    }
   ],
   "source": [
    "# This one is interesting because it brings in UK government language!\n",
    "genbill(\"United Kingdom\")"
   ]
  },
  {
   "cell_type": "code",
   "execution_count": 32,
   "metadata": {
    "scrolled": true
   },
   "outputs": [
    {
     "name": "stdout",
     "output_type": "stream",
     "text": [
      " -> Relating to the definition of child abuse.\n",
      "\n",
      "SECTION 1. Chapter 21 of the General Statutes is amended by adding:\n",
      "\n",
      "\"Article 11A. Child Abuse and Neglect Prevention Act.\n",
      "\n",
      "§ 21-11A\n"
     ]
    }
   ],
   "source": [
    "genbill(\"America\")"
   ]
  },
  {
   "cell_type": "code",
   "execution_count": 35,
   "metadata": {
    "scrolled": false
   },
   "outputs": [
    {
     "name": "stdout",
     "output_type": "stream",
     "text": [
      " -> Women's Protection Bill, 2018\n",
      "\n",
      "An Act to provide for the safety, equality, and empowerment of women, and to provide for related matters\n",
      "\n",
      "BE IT ENACTED by the Queen's most Excellent Majesty, by and with the advice and\n"
     ]
    }
   ],
   "source": [
    "genbill(\"India\")"
   ]
  },
  {
   "cell_type": "code",
   "execution_count": 36,
   "metadata": {
    "scrolled": true
   },
   "outputs": [
    {
     "name": "stdout",
     "output_type": "stream",
     "text": [
      ": The South African Human Rights Commission (SAHRC) has published a guide for employers on the rights of employees to be free from discrimination and harassment in the workplace. The guide is intended to assist employers in complying with the Employment Equity Act (EE\n"
     ]
    }
   ],
   "source": [
    "genbill(\"South Africa\")"
   ]
  },
  {
   "cell_type": "code",
   "execution_count": 37,
   "metadata": {},
   "outputs": [
    {
     "name": "stdout",
     "output_type": "stream",
     "text": [
      " -> Prohibits specified entities, including public and private schools, from providing instruction related to gender identity to students in grades kindergarten through 12. Prohibits specified entities, including public and private schools, from providing instruction related to gender identity to students in\n"
     ]
    }
   ],
   "source": [
    "genbill(\"California\")"
   ]
  },
  {
   "cell_type": "code",
   "execution_count": null,
   "metadata": {},
   "outputs": [],
   "source": [
    "#to delete model run the following \n",
    "openai.Model.delete(\"FINE_TUNED_MODEL\")"
   ]
  }
 ],
 "metadata": {
  "kernelspec": {
   "display_name": "Python 3 (ipykernel)",
   "language": "python",
   "name": "python3"
  },
  "language_info": {
   "codemirror_mode": {
    "name": "ipython",
    "version": 3
   },
   "file_extension": ".py",
   "mimetype": "text/x-python",
   "name": "python",
   "nbconvert_exporter": "python",
   "pygments_lexer": "ipython3",
   "version": "3.9.13"
  }
 },
 "nbformat": 4,
 "nbformat_minor": 2
}
