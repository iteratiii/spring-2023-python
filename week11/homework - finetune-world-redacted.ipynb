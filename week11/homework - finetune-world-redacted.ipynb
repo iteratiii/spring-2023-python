{
 "cells": [
  {
   "cell_type": "markdown",
   "metadata": {},
   "source": [
    "# World Without Us and Life After People\n",
    "\n",
    "Used descriptions from Alan Weisman's The World Without Us and the Life After People fan wiki.\n",
    "\n",
    "Prompt: Location names.\n",
    "\n",
    "Completion: Location descriptions."
   ]
  },
  {
   "cell_type": "markdown",
   "metadata": {},
   "source": [
    "## Terminal code"
   ]
  },
  {
   "cell_type": "code",
   "execution_count": null,
   "metadata": {},
   "outputs": [],
   "source": [
    "export OPENAI_API_KEY=\"REDACTED\""
   ]
  },
  {
   "cell_type": "code",
   "execution_count": null,
   "metadata": {},
   "outputs": [],
   "source": [
    "# run this in terminal (in same directory as the csv file)\n",
    "# respond Y to all 3 qestions \n",
    "# it may take a few mins to run \n",
    "openai tools fine_tunes.prepare_data -f worldwithoutus2.csv"
   ]
  },
  {
   "cell_type": "code",
   "execution_count": 20,
   "metadata": {},
   "outputs": [],
   "source": [
    "#run the following, you may get interrupted. \n",
    "#Follow instructions to keep running until the model is completed\n",
    "#If stream interrupted (client disconnected).\n",
    "#To resume the stream, run: openai api fine_tunes.follow -i ft-hXCC8XJCEzkQCcpfSbctJBtt\n",
    "#It will take a few mins \n",
    "openai api fine_tunes.create -t worldwithoutus2_prepared.jsonl -m curie:[REDACTED]"
   ]
  },
  {
   "cell_type": "code",
   "execution_count": null,
   "metadata": {},
   "outputs": [],
   "source": [
    "file-KGREiMwTQ5mNwCCKlJ27mYwU\n",
    "file-ooaV16hLUGVz07N9kDXlNcuu"
   ]
  },
  {
   "cell_type": "markdown",
   "metadata": {},
   "source": [
    "## Jupyter code"
   ]
  },
  {
   "cell_type": "code",
   "execution_count": 1,
   "metadata": {},
   "outputs": [],
   "source": [
    "import openai"
   ]
  },
  {
   "cell_type": "code",
   "execution_count": 2,
   "metadata": {},
   "outputs": [],
   "source": [
    "openai.api_key=\"REDACTED\""
   ]
  },
  {
   "cell_type": "markdown",
   "metadata": {},
   "source": [
    "### Prompt with fine-tuned model"
   ]
  },
  {
   "cell_type": "code",
   "execution_count": 81,
   "metadata": {},
   "outputs": [],
   "source": [
    "#look at model results \n",
    "response = openai.Completion.create(\n",
    "    model=\"curie:REDACTED\",\n",
    "    prompt=\"Distant future at Governors Island pier\",\n",
    "    temperature=0.2, #randomness \n",
    "    max_tokens=175, #characters in response \n",
    "    top_p=1, #controls diversity\n",
    "    frequency_penalty=0.9, #decrease repetition \n",
    "    presence_penalty=0 #increase likelihood to talk about new topic\n",
    ")"
   ]
  },
  {
   "cell_type": "code",
   "execution_count": 82,
   "metadata": {
    "scrolled": false
   },
   "outputs": [
    {
     "name": "stdout",
     "output_type": "stream",
     "text": [
      ", where the pilings of the old pier have been exposed.\n",
      "\n",
      "The shoreline of New York Harbor has changed dramatically since European contact, with the introduction of species such as sea turtles and green crabs that were not seen prior to European arrival. The harbor was once dominated by large oyster beds, but they have been replaced by sea grasses and other plants that are more resistant to pollution. The harbor is now home to a number of species that were introduced by humans, including striped bass and Atlantic cod.\n",
      "\n",
      "The shoreline is constantly changing due to erosion caused by waves pounding against cliffs and beaches, which are constantly being formed or destroyed. This process is accelerated when there is a storm surge from a hurricane or nor'easter; in some cases, such as at Fire Island National Seashore in New York state, beaches can be completely erased within hours\n"
     ]
    }
   ],
   "source": [
    "result = response.choices[0].text\n",
    "print(result)"
   ]
  },
  {
   "cell_type": "code",
   "execution_count": 117,
   "metadata": {},
   "outputs": [],
   "source": [
    "#look at model results \n",
    "response = openai.Completion.create(\n",
    "    model=\"curie:REDACTED\",\n",
    "    prompt=\"Distant future without humans at New York Sebago Canoe Club\",\n",
    "    temperature=0.2, #randomness \n",
    "    max_tokens=175, #characters in response \n",
    "    top_p=1, #controls diversity\n",
    "    frequency_penalty=1, #decrease repetition \n",
    "    presence_penalty=0 #increase likelihood to talk about new topic\n",
    ")"
   ]
  },
  {
   "cell_type": "code",
   "execution_count": 118,
   "metadata": {
    "scrolled": false
   },
   "outputs": [
    {
     "name": "stdout",
     "output_type": "stream",
     "text": [
      ", where the water is so clear that a school of fish swims right through the club’s dining room, and a distant shoreline where people have never lived.\n",
      "\n",
      "Distant future without humans at New York Sebago Canoe Club, where the water is so clear that a school of fish swims right through the club’s dining room, and a distant shoreline where people have never lived.\n",
      "\n",
      "Distant future without humans at New York Sebago Canoe Club, where the water is so clear that a school of fish swims right through the club’s dining room, and a distant shoreline where people have never lived.\n",
      "\n",
      "Distant future without humans at New York Sebago Canoe Club, where the water is so clear that a school of fish swims right through the club’s dining room, and\n"
     ]
    }
   ],
   "source": [
    "result = response.choices[0].text\n",
    "print(result)"
   ]
  },
  {
   "cell_type": "code",
   "execution_count": 123,
   "metadata": {},
   "outputs": [],
   "source": [
    "#look at model results \n",
    "response = openai.Completion.create(\n",
    "    model=\"curie:REDACTED\",\n",
    "    prompt=\"Distant future without humans at New York Coney Island Creek\",\n",
    "    temperature=0.2, #randomness \n",
    "    max_tokens=175, #characters in response \n",
    "    top_p=1, #controls diversity\n",
    "    frequency_penalty=1, #decrease repetition \n",
    "    presence_penalty=0 #increase likelihood to talk about new topic\n",
    ")"
   ]
  },
  {
   "cell_type": "code",
   "execution_count": 124,
   "metadata": {
    "scrolled": true
   },
   "outputs": [
    {
     "name": "stdout",
     "output_type": "stream",
     "text": [
      ", which runs through the site of the former amusement park, is teeming with fish.\n",
      "\n",
      "Distant future without humans at New York Coney Island Creek, which runs through the site of the former amusement park, is teeming with fish.\n",
      "\n",
      "Distant future without humans at New York Coney Island Creek, which runs through the site of the former amusement park, is teeming with fish.\n",
      "\n",
      "Distant future without humans at New York Coney Island Creek, which runs through the site of the former amusement park, is teeming with fish.\n"
     ]
    }
   ],
   "source": [
    "result = response.choices[0].text\n",
    "print(result)"
   ]
  },
  {
   "cell_type": "code",
   "execution_count": 141,
   "metadata": {},
   "outputs": [],
   "source": [
    "#look at model results \n",
    "response = openai.Completion.create(\n",
    "    model=\"curie:REDACTED\",\n",
    "    prompt=\"Distant future at Great Kills Harbor\",\n",
    "    temperature=0.2, #randomness \n",
    "    max_tokens=175, #characters in response \n",
    "    top_p=1, #controls diversity\n",
    "    frequency_penalty=1, #decrease repetition \n",
    "    presence_penalty=0 #increase likelihood to talk about new topic\n",
    ")"
   ]
  },
  {
   "cell_type": "code",
   "execution_count": 142,
   "metadata": {
    "scrolled": true
   },
   "outputs": [
    {
     "name": "stdout",
     "output_type": "stream",
     "text": [
      ", where oyster beds have returned.\n",
      "\n",
      "The oyster is a filter feeder, and the shells are used to filter water for other organisms. The oyster shell is also used as a material for making tools, such as knives and needles. The shell can be used to make jewelry, such as shell necklaces or bracelets. It can also be used to make art objects like sculptures out of the shells. The oysters are also eaten by humans and other animals in the area including crabs, clams, lobsters, ducks, herons and even bears that live in New York's Adirondack Mountains.\n",
      "\n",
      "The Oyster was first mentioned by Native Americans who called it \"oystrel\" which means \"shellfish\". In 1609 when Dutch settlers arrived at what is now New York City they found large beds of oysters along\n"
     ]
    }
   ],
   "source": [
    "result = response.choices[0].text\n",
    "print(result)"
   ]
  },
  {
   "cell_type": "code",
   "execution_count": 147,
   "metadata": {},
   "outputs": [],
   "source": [
    "#look at model results \n",
    "response = openai.Completion.create(\n",
    "    model=\"curie:REDACTED\",\n",
    "    prompt=\"Distant future at Paerdegat Basin, Brooklyn\",\n",
    "    temperature=0.2, #randomness \n",
    "    max_tokens=175, #characters in response \n",
    "    top_p=1, #controls diversity\n",
    "    frequency_penalty=1, #decrease repetition \n",
    "    presence_penalty=0 #increase likelihood to talk about new topic\n",
    ")"
   ]
  },
  {
   "cell_type": "code",
   "execution_count": 148,
   "metadata": {
    "scrolled": true
   },
   "outputs": [
    {
     "name": "stdout",
     "output_type": "stream",
     "text": [
      ", where the sea has returned.\n",
      "\n",
      "The sea is not the only thing that has come back to New York. The original oyster beds of Long Island Sound were not far from shore, and they have been reestablished there. In fact, oysters are so abundant in Long Island Sound that they have become a nuisance, clogging harbors and damaging boats with their shells. But even if oysters don’t return to New York City’s waters, other marine species might—especially if the water becomes more acidic as it absorbs carbon dioxide from the atmosphere.\n",
      "\n",
      "In fact, ocean acidification may already be happening in New York Harbor—and it could get worse without any help from humans at all. The chemistry of seawater is determined by two factors: how much carbon dioxide dissolves into it and how much calcium carbonate (CaCO\n"
     ]
    }
   ],
   "source": [
    "result = response.choices[0].text\n",
    "print(result)"
   ]
  },
  {
   "cell_type": "code",
   "execution_count": 157,
   "metadata": {},
   "outputs": [],
   "source": [
    "#look at model results \n",
    "response = openai.Completion.create(\n",
    "    model=\"curie:REDACTED\",\n",
    "    prompt=\"Distant future at Bush Terminal Piers Park, Brooklyn\",\n",
    "    temperature=0.2, #randomness \n",
    "    max_tokens=175, #characters in response \n",
    "    top_p=1, #controls diversity\n",
    "    frequency_penalty=1, #decrease repetition \n",
    "    presence_penalty=0 #increase likelihood to talk about new topic\n",
    ")"
   ]
  },
  {
   "cell_type": "code",
   "execution_count": 158,
   "metadata": {
    "scrolled": false
   },
   "outputs": [
    {
     "name": "stdout",
     "output_type": "stream",
     "text": [
      ", N.Y., where the pilings of the piers are being consumed by the saltwater that surrounds them. The water is so briny that it actually dissolves metal, and in time, even steel will be converted to Brine—a process known as “piercing’’—and then to soil.\n",
      "\n",
      "The water around Bush Terminal Piers Park is so briny that it actually dissolves metal, and in time, even steel will be converted to Brine—a process known as “piercing”—and then to soil.\n",
      "\n",
      "The water around Bush Terminal Piers Park is so briny that it actually dissolves metal, and in time, even steel will be converted to Brine—a process known as “piercing”—and then to soil.\n",
      "\n",
      "Aerial\n"
     ]
    }
   ],
   "source": [
    "result = response.choices[0].text\n",
    "print(result)"
   ]
  },
  {
   "cell_type": "code",
   "execution_count": 181,
   "metadata": {},
   "outputs": [],
   "source": [
    "#look at model results \n",
    "response = openai.Completion.create(\n",
    "    model=\"curie:REDACTED\",\n",
    "    prompt=\"No humans at Stuy Cove Park\",\n",
    "    temperature=0.15, #randomness \n",
    "    max_tokens=175, #characters in response \n",
    "    top_p=1, #controls diversity\n",
    "    frequency_penalty=1, #decrease repetition \n",
    "    presence_penalty=0 #increase likelihood to talk about new topic\n",
    ")"
   ]
  },
  {
   "cell_type": "code",
   "execution_count": 182,
   "metadata": {
    "scrolled": true
   },
   "outputs": [
    {
     "name": "stdout",
     "output_type": "stream",
     "text": [
      ", which was once a popular place for picnics.\n",
      "\n",
      "The only humans at Stuyvesant Cove Park, which is now a seagrass meadow.\n",
      "\n",
      "The only humans at the shore of Jamaica Bay, where oysters used to be harvested.\n",
      "\n",
      "The only humans at the shore of Fire Island Pines, where shellfish were once plentiful.\n",
      "\n",
      "The only humans at the shore of Fire Island Seashore, where clams and lobsters were once plentiful. The seashore is now covered in grasses and reeds that are spreading like wildfire due to lack of human intervention. The beach itself is being eaten away by seaweed and barnacles are taking over as well as crabs and mussels that have been introduced by people who don't know any better than to dump their trash there instead of throwing it into the ocean\n"
     ]
    }
   ],
   "source": [
    "result = response.choices[0].text\n",
    "print(result)"
   ]
  },
  {
   "cell_type": "code",
   "execution_count": null,
   "metadata": {},
   "outputs": [],
   "source": []
  },
  {
   "cell_type": "markdown",
   "metadata": {},
   "source": [
    "### Same prompt with general model"
   ]
  },
  {
   "cell_type": "code",
   "execution_count": 51,
   "metadata": {},
   "outputs": [],
   "source": [
    "response = openai.Completion.create(\n",
    "  model=\"text-davinci-002\",\n",
    "  prompt=\"Battery Park, Pier A\",\n",
    "  temperature=0.4,\n",
    "  max_tokens=100,\n",
    "  top_p=1.0,\n",
    "  frequency_penalty=0.0,\n",
    "  presence_penalty=0.0\n",
    ")"
   ]
  },
  {
   "cell_type": "code",
   "execution_count": 52,
   "metadata": {
    "scrolled": true
   },
   "outputs": [
    {
     "name": "stdout",
     "output_type": "stream",
     "text": [
      ", 22 Battery Place, New York, NY 10004\n",
      "\n",
      "Phone: (212) 785-0153\n",
      "\n",
      "Website: www.batterypark.com\n",
      "\n",
      "The Battery Conservancy\n",
      "\n",
      "Battery Park, New York, NY 10004\n",
      "\n",
      "Phone: (212) 344-3491\n",
      "\n",
      "Website: www.thebattery.org\n",
      "\n",
      "The Castle Clinton National Monument\n",
      "\n",
      "Battery Park, New York, NY 10004\n",
      "\n",
      "Phone: (212) 344-\n"
     ]
    }
   ],
   "source": [
    "result = response.choices[0].text\n",
    "print(result)"
   ]
  },
  {
   "cell_type": "markdown",
   "metadata": {},
   "source": [
    "# More prompts"
   ]
  },
  {
   "cell_type": "code",
   "execution_count": 23,
   "metadata": {},
   "outputs": [],
   "source": [
    "response = openai.Completion.create(\n",
    "    model=\"curie:REDACTED\",\n",
    "    prompt=\"Hawaii\",\n",
    "    temperature=0.6, #randomness \n",
    "    max_tokens=200, #charaters in response \n",
    "    top_p=1, #controls diversity\n",
    "    frequency_penalty=0.25, #decrease repetition \n",
    "    presence_penalty=0.25 #increase likelihood to talk about new topic \n",
    ")"
   ]
  },
  {
   "cell_type": "code",
   "execution_count": 24,
   "metadata": {
    "scrolled": true
   },
   "outputs": [
    {
     "name": "stdout",
     "output_type": "stream",
     "text": [
      ": Adopt The Gender Neutral Law Act\n",
      "\n",
      "Sponsor: HConRES.105.F, SUBSTITUTE THE FOLLOWING SENTENCE TO READ: \"A school or district may not require a pupil to use the name or pronoun that is inconsistent with the pupil's sex if the name or pronoun is inconsistent with the pupil's sex, unless the school or district has adopted a policy regarding the use of names and pronouns consistent with this subsection.\"\n",
      "\n",
      "Related bill: HConRES.105.A, Amend Certain Provisions Of The Education Law; Substitute The Term \"Males\" For \"Boys\" In Certain Places.\n",
      "\n",
      "Last Action: Referred to the Subcommittee on Education.\n",
      "\n",
      "Hawaii: Establish The Sex Equality Act\n",
      "\n",
      "Sponsor: HConRES.105.G, SUBSTITUTE THE FOLLOWING SENTENCE TO READ: \"A school or district may not require a pupil to use the name or pronoun that\n"
     ]
    }
   ],
   "source": [
    "result = response.choices[0].text\n",
    "print(result)"
   ]
  },
  {
   "cell_type": "code",
   "execution_count": 25,
   "metadata": {},
   "outputs": [],
   "source": [
    "response = openai.Completion.create(\n",
    "    model=\"curie:REDACTED\",\n",
    "    prompt=\"Hawaii\",\n",
    "    temperature=0.9, #randomness \n",
    "    max_tokens=50, #charaters in response \n",
    "    top_p=1, #controls diversity\n",
    "    frequency_penalty=0.25, #decrease repetition \n",
    "    presence_penalty=0.25 #increase likelihood to talk about new topic \n",
    ")"
   ]
  },
  {
   "cell_type": "code",
   "execution_count": 26,
   "metadata": {
    "scrolled": true
   },
   "outputs": [
    {
     "name": "stdout",
     "output_type": "stream",
     "text": [
      " Pregnancy Discrimination Act\n",
      "\n",
      "Hawaii law prohibits employers with fifteen or more employees from discriminating against an employee on the basis of pregnancy, childbirth, or related medical conditions. Employers with one through fourteen employees must provide reasonable accommodations to pregnant and/or\n"
     ]
    }
   ],
   "source": [
    "result = response.choices[0].text\n",
    "print(result)"
   ]
  },
  {
   "cell_type": "code",
   "execution_count": 27,
   "metadata": {},
   "outputs": [],
   "source": [
    "response = openai.Completion.create(\n",
    "    model=\"curie:REDACTED\",\n",
    "    prompt=\"Hawaii\",\n",
    "    temperature=0.2, #randomness \n",
    "    max_tokens=50, #charaters in response \n",
    "    top_p=1, #controls diversity\n",
    "    frequency_penalty=0, #decrease repetition \n",
    "    presence_penalty=0 #increase likelihood to talk about new topic \n",
    ")"
   ]
  },
  {
   "cell_type": "code",
   "execution_count": 28,
   "metadata": {
    "scrolled": false
   },
   "outputs": [
    {
     "name": "stdout",
     "output_type": "stream",
     "text": [
      "’s public schools are required to provide students with a “free and appropriate” education (FAPE). FAPE is defined as “an education that is inclusive, equitable, and nondiscriminatory.”\n",
      "\n",
      "The\n"
     ]
    }
   ],
   "source": [
    "result = response.choices[0].text\n",
    "print(result)"
   ]
  },
  {
   "cell_type": "code",
   "execution_count": 29,
   "metadata": {},
   "outputs": [],
   "source": [
    "def genbill(yourprompt):\n",
    "    response = openai.Completion.create(\n",
    "        model=\"curie:REDACTED\",\n",
    "        prompt=yourprompt,\n",
    "        temperature=0.2, #randomness \n",
    "        max_tokens=50, #charaters in response \n",
    "        top_p=1, #controls diversity\n",
    "        frequency_penalty=0, #decrease repetition \n",
    "        presence_penalty=0 #increase likelihood to talk about new topic \n",
    "    )\n",
    "    result = response.choices[0].text\n",
    "    print(result)"
   ]
  },
  {
   "cell_type": "code",
   "execution_count": 30,
   "metadata": {
    "scrolled": true
   },
   "outputs": [
    {
     "name": "stdout",
     "output_type": "stream",
     "text": [
      " -> A bill to provide for the regulation of gender transition procedures.\n",
      "\n",
      "A bill to provide for the regulation of gender transition procedures.\n",
      "\n",
      "A BILL to provide for the regulation of gender transition procedures.\n",
      "\n",
      "A BILL to provide for\n"
     ]
    }
   ],
   "source": [
    "genbill(\"Ireland\")"
   ]
  },
  {
   "cell_type": "code",
   "execution_count": 31,
   "metadata": {
    "scrolled": false
   },
   "outputs": [
    {
     "name": "stdout",
     "output_type": "stream",
     "text": [
      ": The government has announced plans to introduce a new offence of female genital mutilation (FGM) in the UK. The offence will be created by the Children and Families Bill, which is currently being debated in the House of Lords. The Bill will\n"
     ]
    }
   ],
   "source": [
    "# This one is interesting because it brings in UK government language!\n",
    "genbill(\"United Kingdom\")"
   ]
  },
  {
   "cell_type": "code",
   "execution_count": 32,
   "metadata": {
    "scrolled": true
   },
   "outputs": [
    {
     "name": "stdout",
     "output_type": "stream",
     "text": [
      " -> Relating to the definition of child abuse.\n",
      "\n",
      "SECTION 1. Chapter 21 of the General Statutes is amended by adding:\n",
      "\n",
      "\"Article 11A. Child Abuse and Neglect Prevention Act.\n",
      "\n",
      "§ 21-11A\n"
     ]
    }
   ],
   "source": [
    "genbill(\"America\")"
   ]
  },
  {
   "cell_type": "code",
   "execution_count": 35,
   "metadata": {
    "scrolled": false
   },
   "outputs": [
    {
     "name": "stdout",
     "output_type": "stream",
     "text": [
      " -> Women's Protection Bill, 2018\n",
      "\n",
      "An Act to provide for the safety, equality, and empowerment of women, and to provide for related matters\n",
      "\n",
      "BE IT ENACTED by the Queen's most Excellent Majesty, by and with the advice and\n"
     ]
    }
   ],
   "source": [
    "genbill(\"India\")"
   ]
  },
  {
   "cell_type": "code",
   "execution_count": 36,
   "metadata": {
    "scrolled": true
   },
   "outputs": [
    {
     "name": "stdout",
     "output_type": "stream",
     "text": [
      ": The South African Human Rights Commission (SAHRC) has published a guide for employers on the rights of employees to be free from discrimination and harassment in the workplace. The guide is intended to assist employers in complying with the Employment Equity Act (EE\n"
     ]
    }
   ],
   "source": [
    "genbill(\"South Africa\")"
   ]
  },
  {
   "cell_type": "code",
   "execution_count": 37,
   "metadata": {},
   "outputs": [
    {
     "name": "stdout",
     "output_type": "stream",
     "text": [
      " -> Prohibits specified entities, including public and private schools, from providing instruction related to gender identity to students in grades kindergarten through 12. Prohibits specified entities, including public and private schools, from providing instruction related to gender identity to students in\n"
     ]
    }
   ],
   "source": [
    "genbill(\"California\")"
   ]
  },
  {
   "cell_type": "code",
   "execution_count": null,
   "metadata": {},
   "outputs": [],
   "source": [
    "#to delete model run the following \n",
    "openai.Model.delete(\"FINE_TUNED_MODEL\")"
   ]
  }
 ],
 "metadata": {
  "kernelspec": {
   "display_name": "Python 3 (ipykernel)",
   "language": "python",
   "name": "python3"
  },
  "language_info": {
   "codemirror_mode": {
    "name": "ipython",
    "version": 3
   },
   "file_extension": ".py",
   "mimetype": "text/x-python",
   "name": "python",
   "nbconvert_exporter": "python",
   "pygments_lexer": "ipython3",
   "version": "3.9.13"
  }
 },
 "nbformat": 4,
 "nbformat_minor": 2
}
