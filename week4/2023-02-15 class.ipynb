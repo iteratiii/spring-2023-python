{
 "cells": [
  {
   "cell_type": "code",
   "execution_count": null,
   "id": "a236911b",
   "metadata": {},
   "outputs": [],
   "source": [
    "# object-oriented programming"
   ]
  },
  {
   "cell_type": "code",
   "execution_count": 1,
   "id": "fa0d83e5",
   "metadata": {},
   "outputs": [],
   "source": [
    "class MyObject:\n",
    "    pass #if you don't have this you get error"
   ]
  },
  {
   "cell_type": "code",
   "execution_count": 2,
   "id": "b6334bc0",
   "metadata": {},
   "outputs": [
    {
     "name": "stdout",
     "output_type": "stream",
     "text": [
      "<class '__main__.MyObject'>\n"
     ]
    }
   ],
   "source": [
    "x = MyObject()\n",
    "print(type(x))"
   ]
  },
  {
   "cell_type": "code",
   "execution_count": 32,
   "id": "b78d4465",
   "metadata": {},
   "outputs": [
    {
     "name": "stdout",
     "output_type": "stream",
     "text": [
      "31\n",
      "gabriel\n",
      "5'6\"\n",
      "AAAH gabriel\n"
     ]
    }
   ],
   "source": [
    "class Person:\n",
    "    def __init__(self, name, age, height):\n",
    "        self.name = name\n",
    "        self.age = age\n",
    "        self.height = height\n",
    "        return\n",
    "    \n",
    "    def enthusiastic(self):\n",
    "        print('AAAH {}'.format(self.name))\n",
    "    \n",
    "mee = Person('gabriel', 31, '5\\'6\\\"')\n",
    "print(mee.age)\n",
    "print(mee.name)\n",
    "print(mee.height)\n",
    "\n",
    "mee.enthusiastic()"
   ]
  },
  {
   "cell_type": "code",
   "execution_count": 15,
   "id": "34c40907",
   "metadata": {},
   "outputs": [
    {
     "name": "stdout",
     "output_type": "stream",
     "text": [
      "labrador\n"
     ]
    }
   ],
   "source": [
    "class Dog:\n",
    "    \n",
    "    species = 'animal' # class object attribute\n",
    "    \n",
    "    def __init__(self, breed, name): \n",
    "        self.breed = breed\n",
    "        self.name = name\n",
    "\n",
    "bailey = Dog('labrador','doglessness')\n",
    "\n",
    "print(bailey.breed)"
   ]
  },
  {
   "cell_type": "code",
   "execution_count": 16,
   "id": "edd0bd94",
   "metadata": {},
   "outputs": [
    {
     "data": {
      "text/plain": [
       "__main__.Dog"
      ]
     },
     "execution_count": 16,
     "metadata": {},
     "output_type": "execute_result"
    }
   ],
   "source": [
    "type(bailey)"
   ]
  },
  {
   "cell_type": "code",
   "execution_count": 17,
   "id": "9d255638",
   "metadata": {},
   "outputs": [
    {
     "data": {
      "text/plain": [
       "'doglessness'"
      ]
     },
     "execution_count": 17,
     "metadata": {},
     "output_type": "execute_result"
    }
   ],
   "source": [
    "bailey.name"
   ]
  },
  {
   "cell_type": "code",
   "execution_count": 18,
   "id": "c8246ddb",
   "metadata": {},
   "outputs": [
    {
     "data": {
      "text/plain": [
       "'animal'"
      ]
     },
     "execution_count": 18,
     "metadata": {},
     "output_type": "execute_result"
    }
   ],
   "source": [
    "bailey.species"
   ]
  },
  {
   "cell_type": "code",
   "execution_count": null,
   "id": "ba9e0351",
   "metadata": {},
   "outputs": [],
   "source": []
  },
  {
   "cell_type": "code",
   "execution_count": null,
   "id": "150f865e",
   "metadata": {},
   "outputs": [],
   "source": []
  },
  {
   "cell_type": "code",
   "execution_count": null,
   "id": "9a2db957",
   "metadata": {},
   "outputs": [],
   "source": []
  },
  {
   "cell_type": "code",
   "execution_count": null,
   "id": "c1c2ede3",
   "metadata": {},
   "outputs": [],
   "source": []
  },
  {
   "cell_type": "code",
   "execution_count": null,
   "id": "be818d20",
   "metadata": {},
   "outputs": [],
   "source": []
  },
  {
   "cell_type": "code",
   "execution_count": null,
   "id": "fe51598e",
   "metadata": {},
   "outputs": [],
   "source": []
  }
 ],
 "metadata": {
  "kernelspec": {
   "display_name": "Python 3 (ipykernel)",
   "language": "python",
   "name": "python3"
  },
  "language_info": {
   "codemirror_mode": {
    "name": "ipython",
    "version": 3
   },
   "file_extension": ".py",
   "mimetype": "text/x-python",
   "name": "python",
   "nbconvert_exporter": "python",
   "pygments_lexer": "ipython3",
   "version": "3.9.13"
  }
 },
 "nbformat": 4,
 "nbformat_minor": 5
}
