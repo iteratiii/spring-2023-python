{
 "cells": [
  {
   "cell_type": "code",
   "execution_count": null,
   "id": "a236911b",
   "metadata": {},
   "outputs": [],
   "source": [
    "# object-oriented programming"
   ]
  },
  {
   "cell_type": "code",
   "execution_count": 1,
   "id": "fa0d83e5",
   "metadata": {},
   "outputs": [],
   "source": [
    "class MyObject:\n",
    "    pass #if you don't have this you get error"
   ]
  },
  {
   "cell_type": "code",
   "execution_count": 2,
   "id": "b6334bc0",
   "metadata": {},
   "outputs": [
    {
     "name": "stdout",
     "output_type": "stream",
     "text": [
      "<class '__main__.MyObject'>\n"
     ]
    }
   ],
   "source": [
    "x = MyObject()\n",
    "print(type(x))"
   ]
  },
  {
   "cell_type": "code",
   "execution_count": 32,
   "id": "b78d4465",
   "metadata": {},
   "outputs": [
    {
     "name": "stdout",
     "output_type": "stream",
     "text": [
      "31\n",
      "gabriel\n",
      "5'6\"\n",
      "AAAH gabriel\n"
     ]
    }
   ],
   "source": [
    "class Person:\n",
    "    def __init__(self, name, age, height):\n",
    "        self.name = name\n",
    "        self.age = age\n",
    "        self.height = height\n",
    "        return\n",
    "    \n",
    "    def enthusiastic(self):\n",
    "        print('AAAH {}'.format(self.name))\n",
    "    \n",
    "mee = Person('gabriel', 31, '5\\'6\\\"')\n",
    "print(mee.age)\n",
    "print(mee.name)\n",
    "print(mee.height)\n",
    "\n",
    "mee.enthusiastic()"
   ]
  },
  {
   "cell_type": "code",
   "execution_count": 15,
   "id": "34c40907",
   "metadata": {},
   "outputs": [
    {
     "name": "stdout",
     "output_type": "stream",
     "text": [
      "labrador\n"
     ]
    }
   ],
   "source": [
    "class Dog:\n",
    "    \n",
    "    species = 'animal' # class object attribute\n",
    "    \n",
    "    def __init__(self, breed, name): \n",
    "        self.breed = breed\n",
    "        self.name = name\n",
    "\n",
    "bailey = Dog('labrador','doglessness')\n",
    "\n",
    "print(bailey.breed)"
   ]
  },
  {
   "cell_type": "code",
   "execution_count": 16,
   "id": "edd0bd94",
   "metadata": {},
   "outputs": [
    {
     "data": {
      "text/plain": [
       "__main__.Dog"
      ]
     },
     "execution_count": 16,
     "metadata": {},
     "output_type": "execute_result"
    }
   ],
   "source": [
    "type(bailey)"
   ]
  },
  {
   "cell_type": "code",
   "execution_count": 17,
   "id": "9d255638",
   "metadata": {},
   "outputs": [
    {
     "data": {
      "text/plain": [
       "'doglessness'"
      ]
     },
     "execution_count": 17,
     "metadata": {},
     "output_type": "execute_result"
    }
   ],
   "source": [
    "bailey.name"
   ]
  },
  {
   "cell_type": "code",
   "execution_count": 18,
   "id": "c8246ddb",
   "metadata": {},
   "outputs": [
    {
     "data": {
      "text/plain": [
       "'animal'"
      ]
     },
     "execution_count": 18,
     "metadata": {},
     "output_type": "execute_result"
    }
   ],
   "source": [
    "bailey.species"
   ]
  },
  {
   "cell_type": "code",
   "execution_count": 7,
   "id": "ba9e0351",
   "metadata": {},
   "outputs": [],
   "source": [
    "class Circle:\n",
    "    \n",
    "    pi = 3.14159265359\n",
    "    \n",
    "    def __init__(self, radius=1):\n",
    "        self.radius = radius\n",
    "        self.area = self.radius * self.radius * self.pi\n",
    "        self.circum = self.radius * self.pi * 2"
   ]
  },
  {
   "cell_type": "code",
   "execution_count": 9,
   "id": "150f865e",
   "metadata": {},
   "outputs": [
    {
     "data": {
      "text/plain": [
       "314.159265359"
      ]
     },
     "execution_count": 9,
     "metadata": {},
     "output_type": "execute_result"
    }
   ],
   "source": [
    "my_circle = Circle(10)\n",
    "my_circle.area"
   ]
  },
  {
   "cell_type": "code",
   "execution_count": 10,
   "id": "c1c2ede3",
   "metadata": {},
   "outputs": [
    {
     "data": {
      "text/plain": [
       "10"
      ]
     },
     "execution_count": 10,
     "metadata": {},
     "output_type": "execute_result"
    }
   ],
   "source": [
    "my_circle.radius"
   ]
  },
  {
   "cell_type": "code",
   "execution_count": 11,
   "id": "be818d20",
   "metadata": {},
   "outputs": [
    {
     "data": {
      "text/plain": [
       "62.8318530718"
      ]
     },
     "execution_count": 11,
     "metadata": {},
     "output_type": "execute_result"
    }
   ],
   "source": [
    "my_circle.circum"
   ]
  },
  {
   "cell_type": "code",
   "execution_count": 12,
   "id": "fe51598e",
   "metadata": {},
   "outputs": [],
   "source": [
    "new_circle = Circle(20)"
   ]
  },
  {
   "cell_type": "code",
   "execution_count": 13,
   "id": "e83ec719",
   "metadata": {},
   "outputs": [
    {
     "data": {
      "text/plain": [
       "20"
      ]
     },
     "execution_count": 13,
     "metadata": {},
     "output_type": "execute_result"
    }
   ],
   "source": [
    "new_circle.radius"
   ]
  },
  {
   "cell_type": "code",
   "execution_count": 22,
   "id": "eca27301",
   "metadata": {
    "scrolled": true
   },
   "outputs": [
    {
     "name": "stdout",
     "output_type": "stream",
     "text": [
      "i made a critter\n",
      "it is dog\n",
      "Dog\n",
      "av! av! i am a serbian dog n that's what we say\n",
      "eating a tasty snack\n",
      "eating a tasty snack\n",
      "nom nom nom\n"
     ]
    }
   ],
   "source": [
    "# base class\n",
    "class Animal:\n",
    "    def __init__(self):\n",
    "        print(\"i made a critter\")\n",
    "        \n",
    "    def whatAmI(self):\n",
    "        print(\"Animal\")\n",
    "        \n",
    "    def eat(self):\n",
    "        print(\"eating a tasty snack\")\n",
    "        \n",
    "# derived class\n",
    "class Dog(Animal):\n",
    "    def __init__(self):\n",
    "        Animal.__init__(self)\n",
    "        print(\"it is dog\")\n",
    "        \n",
    "    def whatAmI(self):\n",
    "        print(\"Dog\")\n",
    "    \n",
    "    # an Extension — non-inherited trait of derived class\n",
    "    def bark(self):\n",
    "        print(\"av! av! i am a serbian dog n that's what we say\")\n",
    "        \n",
    "    def eating(self):\n",
    "        Animal.eat(self)\n",
    "        print(\"nom nom nom\")\n",
    "        \n",
    "d = Dog()\n",
    "d.whatAmI()\n",
    "d.bark()\n",
    "d.eat()\n",
    "d.eating()"
   ]
  },
  {
   "cell_type": "code",
   "execution_count": 27,
   "id": "e4560f54",
   "metadata": {
    "scrolled": true
   },
   "outputs": [
    {
     "name": "stdout",
     "output_type": "stream",
     "text": [
      "i made a critter\n",
      "Animal\n",
      "eating a tasty snack\n"
     ]
    }
   ],
   "source": [
    "# base class\n",
    "class Animal:\n",
    "    def __init__(self):\n",
    "        print(\"i made a critter\")\n",
    "        \n",
    "    def whatAmI(self):\n",
    "        print(\"Animal\")\n",
    "        \n",
    "    def eat(self):\n",
    "        print(\"eating a tasty snack\")\n",
    "        \n",
    "# derived class with super() method\n",
    "class Dog(Animal):\n",
    "    def __init__(self):\n",
    "        super().__init__()\n",
    "                \n",
    "d = Dog()\n",
    "d.whatAmI()\n",
    "d.eat()"
   ]
  },
  {
   "cell_type": "code",
   "execution_count": null,
   "id": "920b9cac",
   "metadata": {},
   "outputs": [],
   "source": [
    "# standard python error: something needs to happen!\n",
    "raise NotImplementedError(\"Need to implement method\") "
   ]
  },
  {
   "cell_type": "code",
   "execution_count": 28,
   "id": "5acac7f0",
   "metadata": {},
   "outputs": [
    {
     "ename": "TypeError",
     "evalue": "object of type 'Molm' has no len()",
     "output_type": "error",
     "traceback": [
      "\u001b[0;31m---------------------------------------------------------------------------\u001b[0m",
      "\u001b[0;31mTypeError\u001b[0m                                 Traceback (most recent call last)",
      "\u001b[0;32m/var/folders/lj/gz81psj55xg1_fm6jfz2vbn80000gn/T/ipykernel_26503/935791812.py\u001b[0m in \u001b[0;36m<module>\u001b[0;34m\u001b[0m\n\u001b[1;32m      7\u001b[0m \u001b[0;34m\u001b[0m\u001b[0m\n\u001b[1;32m      8\u001b[0m \u001b[0mmysample\u001b[0m \u001b[0;34m=\u001b[0m \u001b[0mMolm\u001b[0m\u001b[0;34m(\u001b[0m\u001b[0;34m)\u001b[0m\u001b[0;34m\u001b[0m\u001b[0;34m\u001b[0m\u001b[0m\n\u001b[0;32m----> 9\u001b[0;31m \u001b[0mlen\u001b[0m\u001b[0;34m(\u001b[0m\u001b[0mmysample\u001b[0m\u001b[0;34m)\u001b[0m\u001b[0;34m\u001b[0m\u001b[0;34m\u001b[0m\u001b[0m\n\u001b[0m",
      "\u001b[0;31mTypeError\u001b[0m: object of type 'Molm' has no len()"
     ]
    }
   ],
   "source": [
    "mylist = [7, 8, 9]\n",
    "len(mylist)\n",
    "\n",
    "class Molm:\n",
    "    def __init__(self):\n",
    "        pass\n",
    "\n",
    "mysample = Molm()\n",
    "len(mysample)\n",
    "\n"
   ]
  },
  {
   "cell_type": "code",
   "execution_count": 32,
   "id": "8b42ae21",
   "metadata": {},
   "outputs": [],
   "source": [
    "class Book():\n",
    "    def __init__(self, title, author, pages):\n",
    "        self.title = title\n",
    "        self.author = author\n",
    "        self.pages = pages\n",
    "        \n",
    "    def __len__(self):\n",
    "        return self.pages\n",
    "    \n",
    "    def __str__(self):\n",
    "        return f\"{self.title} by {self.author}, pages: {self.pages}\"\n",
    "        \n",
    "    def __del__(self):\n",
    "        print(\"delete from memory\")\n",
    "    \n",
    "myfave = Book(\"Unbearable Lightness of Being\", \"Milan Kundera\", 323)"
   ]
  },
  {
   "cell_type": "code",
   "execution_count": 33,
   "id": "27cee43a",
   "metadata": {},
   "outputs": [
    {
     "name": "stdout",
     "output_type": "stream",
     "text": [
      "Unbearable Lightness of Being by Milan Kundera, pages: 323\n"
     ]
    }
   ],
   "source": [
    "print(myfave)\n",
    "# instead of pointing out where it is in memory, this now uses __str__"
   ]
  },
  {
   "cell_type": "code",
   "execution_count": 34,
   "id": "f777e939",
   "metadata": {},
   "outputs": [
    {
     "name": "stdout",
     "output_type": "stream",
     "text": [
      "323\n"
     ]
    }
   ],
   "source": [
    "print(len(myfave))"
   ]
  },
  {
   "cell_type": "code",
   "execution_count": 35,
   "id": "5bd1c208",
   "metadata": {},
   "outputs": [
    {
     "name": "stdout",
     "output_type": "stream",
     "text": [
      "delete from memory\n"
     ]
    }
   ],
   "source": [
    "del myfave"
   ]
  },
  {
   "cell_type": "code",
   "execution_count": 36,
   "id": "817f4857",
   "metadata": {},
   "outputs": [
    {
     "ename": "NameError",
     "evalue": "name 'myfave' is not defined",
     "output_type": "error",
     "traceback": [
      "\u001b[0;31m---------------------------------------------------------------------------\u001b[0m",
      "\u001b[0;31mNameError\u001b[0m                                 Traceback (most recent call last)",
      "\u001b[0;32m/var/folders/lj/gz81psj55xg1_fm6jfz2vbn80000gn/T/ipykernel_26503/2996976885.py\u001b[0m in \u001b[0;36m<module>\u001b[0;34m\u001b[0m\n\u001b[0;32m----> 1\u001b[0;31m \u001b[0mprint\u001b[0m\u001b[0;34m(\u001b[0m\u001b[0mmyfave\u001b[0m\u001b[0;34m)\u001b[0m\u001b[0;34m\u001b[0m\u001b[0;34m\u001b[0m\u001b[0m\n\u001b[0m",
      "\u001b[0;31mNameError\u001b[0m: name 'myfave' is not defined"
     ]
    }
   ],
   "source": [
    "print(myfave)"
   ]
  },
  {
   "cell_type": "code",
   "execution_count": null,
   "id": "413cefc9",
   "metadata": {},
   "outputs": [],
   "source": []
  }
 ],
 "metadata": {
  "kernelspec": {
   "display_name": "Python 3 (ipykernel)",
   "language": "python",
   "name": "python3"
  },
  "language_info": {
   "codemirror_mode": {
    "name": "ipython",
    "version": 3
   },
   "file_extension": ".py",
   "mimetype": "text/x-python",
   "name": "python",
   "nbconvert_exporter": "python",
   "pygments_lexer": "ipython3",
   "version": "3.9.13"
  }
 },
 "nbformat": 4,
 "nbformat_minor": 5
}
