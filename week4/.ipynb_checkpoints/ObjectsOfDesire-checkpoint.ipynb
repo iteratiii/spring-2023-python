{
 "cells": [
  {
   "cell_type": "markdown",
   "metadata": {},
   "source": [
    "# Objects of Desire\n",
    "## References\n",
    "* [classes](https://docs.python.org/3/tutorial/classes.html)\n",
    "* [calculating distance between two geolocations](https://towardsdatascience.com/calculating-distance-between-two-geolocations-in-python-26ad3afe287b)\n",
    "* [geocoder](https://geocoder.readthedocs.io/api.html#examples)\n",
    "* [more geocoder documentation](https://github.com/DenisCarriere/geocoder)\n",
    "* [random choice from list](https://pynative.com/python-random-choice/)\n",
    "* [google maps API key](https://developers.google.com/maps/documentation/geocoding/get-api-key)\n",
    "* [google maps library](https://github.com/googlemaps/google-maps-services-python)\n",
    "* [more googlemaps library documentation](https://pypi.org/project/googlemaps/)\n",
    "* [hide your api keys](https://medium.com/black-tech-diva/hide-your-api-keys-7635e181a06c)"
   ]
  },
  {
   "cell_type": "code",
   "execution_count": 43,
   "metadata": {
    "scrolled": true
   },
   "outputs": [
    {
     "name": "stdout",
     "output_type": "stream",
     "text": [
      "40.6534111 -74.02010229999999\n"
     ]
    }
   ],
   "source": [
    "# Some spare code for figuring out the location info formatting.\n",
    "\n",
    "# h = gmaps.geocode('Bush Terminal Pier Park')\n",
    "# print(h[0]['geometry']['location']['lat'],h[0]['geometry']['location']['lng'])\n",
    "# cemetery.distance()\n",
    "# cemetery.google[0]['address_components'][2]['long_name']"
   ]
  },
  {
   "cell_type": "code",
   "execution_count": 2,
   "metadata": {
    "scrolled": true
   },
   "outputs": [
    {
     "name": "stdout",
     "output_type": "stream",
     "text": [
      "Collecting haversine\n",
      "  Downloading haversine-2.7.0-py2.py3-none-any.whl (6.9 kB)\n",
      "Installing collected packages: haversine\n",
      "Successfully installed haversine-2.7.0\n",
      "Note: you may need to restart the kernel to use updated packages.\n"
     ]
    }
   ],
   "source": [
    "pip install haversine"
   ]
  },
  {
   "cell_type": "code",
   "execution_count": 29,
   "metadata": {
    "scrolled": true
   },
   "outputs": [
    {
     "name": "stdout",
     "output_type": "stream",
     "text": [
      "Collecting googlemaps\n",
      "  Using cached googlemaps-4.10.0-py3-none-any.whl\n",
      "Requirement already satisfied: requests<3.0,>=2.20.0 in /Users/gabriel/opt/anaconda3/lib/python3.9/site-packages (from googlemaps) (2.28.1)\n",
      "Requirement already satisfied: certifi>=2017.4.17 in /Users/gabriel/opt/anaconda3/lib/python3.9/site-packages (from requests<3.0,>=2.20.0->googlemaps) (2022.9.24)\n",
      "Requirement already satisfied: urllib3<1.27,>=1.21.1 in /Users/gabriel/opt/anaconda3/lib/python3.9/site-packages (from requests<3.0,>=2.20.0->googlemaps) (1.26.11)\n",
      "Requirement already satisfied: charset-normalizer<3,>=2 in /Users/gabriel/opt/anaconda3/lib/python3.9/site-packages (from requests<3.0,>=2.20.0->googlemaps) (2.0.4)\n",
      "Requirement already satisfied: idna<4,>=2.5 in /Users/gabriel/opt/anaconda3/lib/python3.9/site-packages (from requests<3.0,>=2.20.0->googlemaps) (3.3)\n",
      "Installing collected packages: googlemaps\n",
      "Successfully installed googlemaps-4.10.0\n",
      "Note: you may need to restart the kernel to use updated packages.\n"
     ]
    }
   ],
   "source": [
    "pip install -U googlemaps"
   ]
  },
  {
   "cell_type": "markdown",
   "metadata": {},
   "source": [
    "# Example memories\n",
    "\n",
    "I brought Gomez here and we laid on the rocks by the soccer field biting Sour Belts into the shape of forked tongues and pretending we were lizards. We got fried chicken sandwiches from Yemen Café afterwards.\n",
    "\n",
    "Petra rode a Citibike all the way here with me on their lil legs. We walked our bikes into the dirt trails through the trees and sat on the rocks by the ocean, all sweaty. The Citibike bill was like 50 dollars.\n",
    "\n",
    "I biked here by myself in the summer and laid on a hilltop watching the dragonflies flying above me and reading Claudia Rankine's Citizen."
   ]
  },
  {
   "cell_type": "code",
   "execution_count": 1,
   "metadata": {
    "scrolled": true
   },
   "outputs": [
    {
     "name": "stdout",
     "output_type": "stream",
     "text": [
      "Please input your current location (place name or address). Burj Khalifa\n",
      "Cool. Your coordinates are 25.197197, 55.27437639999999.\n"
     ]
    }
   ],
   "source": [
    "# to choose a random memory and to find location data\n",
    "\n",
    "import random, googlemaps\n",
    "import config\n",
    "\n",
    "\n",
    "# to calculate distance between locations\n",
    "\n",
    "import haversine as hs\n",
    "\n",
    "\n",
    "# API Key from Google Cloud Console restricted to geocoding; lives in config.py in .gitignore\n",
    "# so it's not public to bots scraping GitHub for API keys\n",
    "\n",
    "apikey = config.GOOGLE_API_KEY\n",
    "gmaps = googlemaps.Client(key=f'{apikey}')\n",
    "\n",
    "\n",
    "# ask for your location and look it up with Google; output the lat/long\n",
    "\n",
    "you = input(\"Please input your current location (place name or address). \")\n",
    "your_google = gmaps.geocode(you)\n",
    "your_latlng = [your_google[0]['geometry']['location']['lat'], your_google[0]['geometry']['location']['lng']]\n",
    "print(f\"Cool. Your coordinates are {your_latlng[0]}, {your_latlng[1]}.\")\n",
    "\n",
    "\n",
    "# Create a class for favorite places in New York City\n",
    "# Initializer has lists to store Google geocode location info, \n",
    "# lat/long extracted from that info, and memories\n",
    "# Methods: get location data, find your distance from a place, find the neighborhood;\n",
    "# make new memories, and remember them randomly\n",
    "\n",
    "class Place:\n",
    "    \n",
    "    # initializer   \n",
    "    def __init__(self,name):\n",
    "        self.name = name\n",
    "        self.google = []\n",
    "        self.latlng = []\n",
    "        self.memories = []\n",
    "        self.activities = []\n",
    "    \n",
    "    # add a memory of the place\n",
    "    def new_memory(self):\n",
    "        memory = input(\"Tell me a memory of this place: \")\n",
    "        self.memories.append(memory)\n",
    "\n",
    "    # remember a memory of the place\n",
    "    def remember(self):\n",
    "        print(random.choice(self.memories))\n",
    "    \n",
    "    # find the lat long of the place\n",
    "    def locate(self):\n",
    "        self.google = gmaps.geocode(f\"{self.name}\")\n",
    "        self.latitude = self.google[0]['geometry']['location']['lat']\n",
    "        self.longitude = self.google[0]['geometry']['location']['lng']\n",
    "        self.latlng = [self.latitude, self.longitude]         \n",
    "    \n",
    "    # find your distance from the place\n",
    "    def distance(self):\n",
    "        dist = round(hs.haversine(self.latlng,your_latlng),2)\n",
    "        print(f\"You are {dist} miles away from {self.name}.\")\n",
    "    \n",
    "    # find the neighborhood of the place\n",
    "    def neighborhood(self):\n",
    "        neighb = self.google[0]['address_components'][2]['long_name']\n",
    "        print(f\"{self.name} is in {neighb}.\")\n",
    "\n",
    "# Create some places\n",
    "park = Place('Bush Terminal Pier Park')\n",
    "cemetery = Place('Green-wood Cemetery, Brooklyn')\n",
    "hotpot = Place('98 Marion St, Brooklyn NY 11233')\n",
    "dumplings = Place('100 Mott St New York NY')\n",
    "\n",
    "# Get the location data\n",
    "park.locate()\n",
    "cemetery.locate()\n",
    "hotpot.locate()\n",
    "dumplings.locate()"
   ]
  },
  {
   "cell_type": "code",
   "execution_count": 2,
   "metadata": {
    "scrolled": true
   },
   "outputs": [
    {
     "name": "stdout",
     "output_type": "stream",
     "text": [
      "Bush Terminal Pier Park is in Sunset Park.\n",
      "Green-wood Cemetery, Brooklyn is in Greenwood Heights.\n",
      "98 Marion St, Brooklyn NY 11233 is in Bedford-Stuyvesant.\n",
      "100 Mott St New York NY is in Manhattan.\n"
     ]
    }
   ],
   "source": [
    "park.neighborhood()\n",
    "cemetery.neighborhood()\n",
    "hotpot.neighborhood()\n",
    "dumplings.neighborhood()"
   ]
  },
  {
   "cell_type": "code",
   "execution_count": 3,
   "metadata": {},
   "outputs": [
    {
     "name": "stdout",
     "output_type": "stream",
     "text": [
      "You are 11014.48 miles away from Bush Terminal Pier Park.\n",
      "You are 11012.57 miles away from Green-wood Cemetery, Brooklyn.\n",
      "You are 11006.84 miles away from 98 Marion St, Brooklyn NY 11233.\n",
      "You are 11008.11 miles away from 100 Mott St New York NY.\n"
     ]
    }
   ],
   "source": [
    "park.distance()\n",
    "cemetery.distance()\n",
    "hotpot.distance()\n",
    "dumplings.distance()"
   ]
  },
  {
   "cell_type": "code",
   "execution_count": 6,
   "metadata": {},
   "outputs": [
    {
     "name": "stdout",
     "output_type": "stream",
     "text": [
      "Tell me a memory of this place: I biked here by myself in the summer and laid on a hilltop watching the dragonflies flying above me and reading Claudia Rankine's Citizen.\n"
     ]
    }
   ],
   "source": [
    "park.new_memory()"
   ]
  },
  {
   "cell_type": "code",
   "execution_count": 10,
   "metadata": {},
   "outputs": [
    {
     "name": "stdout",
     "output_type": "stream",
     "text": [
      "Petra rode a Citibike all the way here with me on their lil legs. We walked our bikes into the dirt trails through the trees and sat on the rocks by the ocean, all sweaty. The Citibike bill was like 50 dollars.\n"
     ]
    }
   ],
   "source": [
    "park.remember()"
   ]
  },
  {
   "cell_type": "code",
   "execution_count": 11,
   "metadata": {},
   "outputs": [],
   "source": [
    "school=Place('6 E 16th St New York')"
   ]
  },
  {
   "cell_type": "code",
   "execution_count": 12,
   "metadata": {},
   "outputs": [],
   "source": [
    "school.locate()"
   ]
  },
  {
   "cell_type": "code",
   "execution_count": 13,
   "metadata": {},
   "outputs": [
    {
     "name": "stdout",
     "output_type": "stream",
     "text": [
      "You are 11006.26 miles away from 6 E 16th St New York.\n"
     ]
    }
   ],
   "source": [
    "school.distance()"
   ]
  },
  {
   "cell_type": "code",
   "execution_count": null,
   "metadata": {},
   "outputs": [],
   "source": []
  }
 ],
 "metadata": {
  "kernelspec": {
   "display_name": "Python 3 (ipykernel)",
   "language": "python",
   "name": "python3"
  },
  "language_info": {
   "codemirror_mode": {
    "name": "ipython",
    "version": 3
   },
   "file_extension": ".py",
   "mimetype": "text/x-python",
   "name": "python",
   "nbconvert_exporter": "python",
   "pygments_lexer": "ipython3",
   "version": "3.9.13"
  }
 },
 "nbformat": 4,
 "nbformat_minor": 2
}
