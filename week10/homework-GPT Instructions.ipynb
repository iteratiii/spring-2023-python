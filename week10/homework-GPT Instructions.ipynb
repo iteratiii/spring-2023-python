{
 "cells": [
  {
   "cell_type": "code",
   "execution_count": 1,
   "id": "0cc51ef0",
   "metadata": {},
   "outputs": [],
   "source": [
    "import openai"
   ]
  },
  {
   "cell_type": "code",
   "execution_count": 2,
   "id": "5a01faa6",
   "metadata": {},
   "outputs": [],
   "source": [
    "openai.api_key = \"<REDACTED>\""
   ]
  },
  {
   "cell_type": "code",
   "execution_count": 3,
   "id": "9c311d75",
   "metadata": {},
   "outputs": [],
   "source": [
    "text = \"who are you?\""
   ]
  },
  {
   "cell_type": "code",
   "execution_count": 4,
   "id": "b8e577a6",
   "metadata": {},
   "outputs": [],
   "source": [
    "# Completion is their text completion model\n",
    "response = openai.Completion.create(engine=\"davinci\", prompt=text, max_tokens=20)"
   ]
  },
  {
   "cell_type": "code",
   "execution_count": 5,
   "id": "822384a9",
   "metadata": {
    "scrolled": true
   },
   "outputs": [
    {
     "name": "stdout",
     "output_type": "stream",
     "text": [
      "\n",
      "\n",
      "who are you?\n",
      "\n",
      "who are you?\n",
      "\n",
      "\n",
      "\n",
      "there is a girl\n",
      "\n"
     ]
    }
   ],
   "source": [
    "print(response.choices[0].text)"
   ]
  },
  {
   "cell_type": "code",
   "execution_count": 6,
   "id": "1e8d65f8",
   "metadata": {},
   "outputs": [],
   "source": [
    "response = openai.Completion.create(\n",
    "  model=\"text-davinci-001\", # Good at instructions.\n",
    "  prompt=\"Explain machine learning in a short sentence.\",\n",
    "  temperature=0.4, #randomness \n",
    "  max_tokens=64, #characters in response \n",
    "  top_p=1, #controls diversity\n",
    "  frequency_penalty=0, #decrease repetition at 0\n",
    "  presence_penalty=0 #increase likelihood to talk about new topic \n",
    ")"
   ]
  },
  {
   "cell_type": "code",
   "execution_count": 7,
   "id": "d19a16c9",
   "metadata": {},
   "outputs": [
    {
     "name": "stdout",
     "output_type": "stream",
     "text": [
      "\n",
      "\n",
      "Machine learning is a method of teaching computers to learn from data, without being explicitly programmed.\n"
     ]
    }
   ],
   "source": [
    "result = response.choices[0].text\n",
    "print(result)"
   ]
  },
  {
   "cell_type": "code",
   "execution_count": 8,
   "id": "11aa1269",
   "metadata": {},
   "outputs": [],
   "source": [
    "response = openai.Completion.create(\n",
    "  model=\"text-davinci-002\",\n",
    "  prompt=\"I am a highly intelligent question answering bot. If you ask me a question that is rooted in truth, I will give you the answer. If you ask me a question that is nonsense, trickery, or has no clear answer, I will respond with \\\"Unknown\\\".\\n\\nQ: What is human life expectancy in the United States?\\nA: Human life expectancy in the United States is 78 years.\\n\\nQ: Who was president of the United States in 1955?\\nA: Dwight D. Eisenhower was president of the United States in 1955.\\n\\nQ: Which party did he belong to?\\nA: He belonged to the Republican Party.\\n\\nQ: What is the square root of banana?\\nA: Unknown\\n\\nQ: How does a telescope work?\\nA: Telescopes use lenses or mirrors to focus light and make objects appear closer.\\n\\nQ: Where were the 1992 Olympics held?\\nA: The 1992 Olympics were held in Barcelona, Spain.\\n\\nQ: How many squigs are in a bonk?\\nA: Unknown\\n\\nQ: Where is the Valley of Kings?\\nA:\",\n",
    "  temperature=0,\n",
    "  max_tokens=100,\n",
    "  top_p=1,\n",
    "  frequency_penalty=0.0,\n",
    "  presence_penalty=0.0,\n",
    "  stop=[\"\\n\"]\n",
    ")"
   ]
  },
  {
   "cell_type": "code",
   "execution_count": 9,
   "id": "a3197964",
   "metadata": {},
   "outputs": [
    {
     "name": "stdout",
     "output_type": "stream",
     "text": [
      " The Valley of Kings is located in Egypt.\n"
     ]
    }
   ],
   "source": [
    "result = response.choices[0].text\n",
    "print(result)"
   ]
  },
  {
   "cell_type": "code",
   "execution_count": 10,
   "id": "0cbba9ba",
   "metadata": {},
   "outputs": [],
   "source": [
    "response = openai.Completion.create(\n",
    "  model=\"text-davinci-001\", # Good at instructions.\n",
    "  prompt=\"Convert the sentence 'Explain machine learning in a short sentence.' into emoji.\",\n",
    "  temperature=0.4, #randomness \n",
    "  max_tokens=64, #characters in response \n",
    "  top_p=1, #controls diversity\n",
    "  frequency_penalty=0, #decrease repetition at 0\n",
    "  presence_penalty=0 #increase likelihood to talk about new topic \n",
    ")"
   ]
  },
  {
   "cell_type": "code",
   "execution_count": 11,
   "id": "9e9ab19f",
   "metadata": {},
   "outputs": [
    {
     "name": "stdout",
     "output_type": "stream",
     "text": [
      "\n",
      "\n",
      "👓📝📊📈📉machine learning is the process of teaching a computer to learn from data\n"
     ]
    }
   ],
   "source": [
    "result = response.choices[0].text\n",
    "print(result)"
   ]
  },
  {
   "cell_type": "code",
   "execution_count": 23,
   "id": "56a5e99f",
   "metadata": {},
   "outputs": [],
   "source": [
    "response = openai.Completion.create(\n",
    "  model=\"text-davinci-001\", # Good at instructions.\n",
    "  prompt=\"Convert the sentence 'Explain machine learning in a short sentence.' into emoji.\",\n",
    "  temperature=1, #randomness \n",
    "  max_tokens=64, #characters in response \n",
    "  top_p=0.5, #controls diversity\n",
    "  frequency_penalty=0, #decrease repetition at 0\n",
    "  presence_penalty=0.5 #increase likelihood to talk about new topic \n",
    ")"
   ]
  },
  {
   "cell_type": "code",
   "execution_count": 24,
   "id": "d39c9812",
   "metadata": {},
   "outputs": [
    {
     "name": "stdout",
     "output_type": "stream",
     "text": [
      "\n",
      "\n",
      "📝🎓👨‍💻👩‍💻👨‍💻👨‍💻👨‍💻👨‍💻\n"
     ]
    }
   ],
   "source": [
    "result = response.choices[0].text\n",
    "print(result)"
   ]
  },
  {
   "cell_type": "code",
   "execution_count": 29,
   "id": "71e30b0c",
   "metadata": {},
   "outputs": [],
   "source": [
    "response = openai.Completion.create(\n",
    "  model=\"text-davinci-002\",\n",
    "  prompt=\"The CSS code for a color like persimmon sunset mixed with palomino:\\n\\nbackground-color: #\",\n",
    "  temperature=0,\n",
    "  max_tokens=64,\n",
    "  top_p=1.0,\n",
    "  frequency_penalty=0.0,\n",
    "  presence_penalty=0.0,\n",
    "  stop=[\";\"]\n",
    ")"
   ]
  },
  {
   "cell_type": "code",
   "execution_count": 31,
   "id": "8b9c7330",
   "metadata": {},
   "outputs": [
    {
     "name": "stdout",
     "output_type": "stream",
     "text": [
      "EAEAEA\n"
     ]
    }
   ],
   "source": [
    "result = response.choices[0].text\n",
    "print(result)"
   ]
  },
  {
   "cell_type": "code",
   "execution_count": 32,
   "id": "3eb6da42",
   "metadata": {},
   "outputs": [],
   "source": [
    "response = openai.Completion.create(\n",
    "  model=\"text-davinci-002\",\n",
    "  prompt=\"Write a recipe based on these ingredients and instructions:\\n\\nFrito Pie\\n\\nIngredients:\\nFritos\\nChili\\nShredded cheddar cheese\\nSweet white or red onions, diced small\\nSour cream\\n\\nInstructions:\",\n",
    "  temperature=0.3,\n",
    "  max_tokens=120,\n",
    "  top_p=1.0,\n",
    "  frequency_penalty=0.0,\n",
    "  presence_penalty=0.0\n",
    ")"
   ]
  },
  {
   "cell_type": "code",
   "execution_count": 33,
   "id": "173cd066",
   "metadata": {},
   "outputs": [
    {
     "name": "stdout",
     "output_type": "stream",
     "text": [
      "\n",
      "\n",
      "1. Preheat oven to 375 degrees F.\n",
      "\n",
      "2. Place Fritos onto baking sheet.\n",
      "\n",
      "3. Top with chili.\n",
      "\n",
      "4. Top with shredded cheese and diced onions.\n",
      "\n",
      "5. Bake for 15-20 minutes.\n",
      "\n",
      "6. Serve with dollop of sour cream and extra diced onions, if desired.\n"
     ]
    }
   ],
   "source": [
    "result = response.choices[0].text\n",
    "print(result)"
   ]
  },
  {
   "cell_type": "code",
   "execution_count": 38,
   "id": "138b26c2",
   "metadata": {},
   "outputs": [],
   "source": [
    "response = openai.Completion.create(\n",
    "  model=\"text-davinci-002\",\n",
    "  prompt=\"Give me instructions for casting a plaster hand in an alginate mold, with accurate ratios of material to water.\",\n",
    "  temperature=0.5,\n",
    "  max_tokens=360,\n",
    "  top_p=1.0,\n",
    "  frequency_penalty=0.0,\n",
    "  presence_penalty=0.0\n",
    ")"
   ]
  },
  {
   "cell_type": "code",
   "execution_count": 39,
   "id": "8a2d84ec",
   "metadata": {
    "scrolled": true
   },
   "outputs": [
    {
     "name": "stdout",
     "output_type": "stream",
     "text": [
      "\n",
      "\n",
      "1. Begin by mixing your alginate powder with water, following the instructions on the packet. You will need enough to completely cover your hand.\n",
      "\n",
      "2. Once mixed, quickly submerge your hand in the mixture and hold it there for a few minutes.\n",
      "\n",
      "3. Carefully remove your hand and allow the alginate to set.\n",
      "\n",
      "4. Once set, fill the mold with plaster of Paris, following the instructions on the packet.\n",
      "\n",
      "5. Allow the plaster to set completely before removing from the mold.\n"
     ]
    }
   ],
   "source": [
    "result = response.choices[0].text\n",
    "print(result)"
   ]
  },
  {
   "cell_type": "markdown",
   "id": "03777dad",
   "metadata": {},
   "source": [
    "![Plaster hand](plasterhand.jpg)"
   ]
  },
  {
   "cell_type": "code",
   "execution_count": 40,
   "id": "0e27f842",
   "metadata": {},
   "outputs": [],
   "source": [
    "response = openai.Completion.create(\n",
    "  model=\"text-davinci-002\",\n",
    "  prompt=\"Give me instructions for how to bake the Queen's Hand, a crispy cornbread in the shape of a hand filled with tabbouleh.\",\n",
    "  temperature=0.5,\n",
    "  max_tokens=360,\n",
    "  top_p=1.0,\n",
    "  frequency_penalty=0.0,\n",
    "  presence_penalty=0.0\n",
    ")"
   ]
  },
  {
   "cell_type": "code",
   "execution_count": 41,
   "id": "b6b09555",
   "metadata": {
    "scrolled": false
   },
   "outputs": [
    {
     "name": "stdout",
     "output_type": "stream",
     "text": [
      "\n",
      "\n",
      "1. Preheat the oven to 350 degrees Fahrenheit.\n",
      "\n",
      "2. In a bowl, mix together 1 cup of cornmeal, 1 cup of all-purpose flour, 1 tablespoon of sugar, 1 teaspoon of baking powder, and 1/2 teaspoon of salt.\n",
      "\n",
      "3. In another bowl, whisk together 2 eggs, 1 cup of milk, and 1/4 cup of melted butter.\n",
      "\n",
      "4. Add the wet ingredients to the dry ingredients and mix until everything is well combined.\n",
      "\n",
      "5. Grease a baking dish with some additional butter.\n",
      "\n",
      "6. To make the hand shape, scoop out about 1/2 cup of batter and form it into an oval. Place the oval in the center of the baking dish and flatten it slightly.\n",
      "\n",
      "7. Make 5 evenly spaced indentations around the oval, and then fill each indentation with tabbouleh.\n",
      "\n",
      "8. Bake the cornbread for 25-30 minutes, or until it's golden brown and cooked through.\n"
     ]
    }
   ],
   "source": [
    "result = response.choices[0].text\n",
    "print(result)"
   ]
  },
  {
   "cell_type": "code",
   "execution_count": null,
   "id": "d7f1f014",
   "metadata": {},
   "outputs": [],
   "source": []
  }
 ],
 "metadata": {
  "kernelspec": {
   "display_name": "Python 3 (ipykernel)",
   "language": "python",
   "name": "python3"
  },
  "language_info": {
   "codemirror_mode": {
    "name": "ipython",
    "version": 3
   },
   "file_extension": ".py",
   "mimetype": "text/x-python",
   "name": "python",
   "nbconvert_exporter": "python",
   "pygments_lexer": "ipython3",
   "version": "3.9.13"
  }
 },
 "nbformat": 4,
 "nbformat_minor": 5
}
