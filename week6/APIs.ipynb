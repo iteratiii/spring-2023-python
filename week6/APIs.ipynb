{
 "cells": [
  {
   "cell_type": "markdown",
   "metadata": {},
   "source": [
    "# LegiScan API\n",
    "I've been working with the [LegiScan API](https://legiscan.com/legiscan) to download information about and text of anti-trans bills to work with for my final project. (Here's the [user manual](https://legiscan.com/misc/LegiScan_API_User_Manual.pdf).) Someone helpfully created a Python module, [pylegiscan](https://github.com/poliquin/pylegiscan), to access LegiScan through Python. [Jonathan Soma's](https://investigate.ai/azcentral-text-reuse-model-legislation/01-downloading-one-million-pieces-of-legislation-from-legiscan/) tutorial was extremely helpful for getting started.\n",
    "\n",
    "Below is an example, downloading the text of over 300 anti-LGBTQ (mostly anti-trans) bills introduced in states and the US in the 2023 legislative session."
   ]
  },
  {
   "cell_type": "markdown",
   "metadata": {
    "id": "NeRyZ07OxK19"
   },
   "source": [
    "## Imports"
   ]
  },
  {
   "cell_type": "code",
   "execution_count": null,
   "metadata": {
    "id": "20iPMIO_xK1-"
   },
   "outputs": [],
   "source": [
    "import zipfile\n",
    "import base64\n",
    "import io\n",
    "import glob\n",
    "import time\n",
    "import json\n",
    "import os\n",
    "import requests\n",
    "import mimetypes\n",
    "import csv\n",
    "import pandas as pd\n",
    "import numpy as np\n",
    "\n",
    "from pypdf import PdfReader\n",
    "from base64 import b64decode\n",
    "\n",
    "from bs4 import BeautifulSoup"
   ]
  },
  {
   "cell_type": "markdown",
   "metadata": {},
   "source": [
    "[Getting an absolute path from an interactive shell](https://bobbyhadz.com/blog/python-nameerror-name-file-is-not-defined)"
   ]
  },
  {
   "cell_type": "markdown",
   "metadata": {},
   "source": [
    "# U.S. state names : abbreviations dict\n",
    "Need this to turn the state names from the spreadsheet into abbreviations."
   ]
  },
  {
   "cell_type": "code",
   "execution_count": null,
   "metadata": {},
   "outputs": [],
   "source": [
    "# United States of America Python Dictionary to translate States,\n",
    "# Districts & Territories to Two-Letter codes and vice versa.\n",
    "#\n",
    "# Canonical URL: https://gist.github.com/rogerallen/1583593\n",
    "#\n",
    "# Dedicated to the public domain.  To the extent possible under law,\n",
    "# Roger Allen has waived all copyright and related or neighboring\n",
    "# rights to this code.  Data originally from Wikipedia at the url:\n",
    "# https://en.wikipedia.org/wiki/ISO_3166-2:US\n",
    "\n",
    "us_state_to_abbrev = {\n",
    "    \"Alabama\": \"AL\",\n",
    "    \"Alaska\": \"AK\",\n",
    "    \"Arizona\": \"AZ\",\n",
    "    \"Arkansas\": \"AR\",\n",
    "    \"California\": \"CA\",\n",
    "    \"Colorado\": \"CO\",\n",
    "    \"Connecticut\": \"CT\",\n",
    "    \"Delaware\": \"DE\",\n",
    "    \"Florida\": \"FL\",\n",
    "    \"Georgia\": \"GA\",\n",
    "    \"Hawaii\": \"HI\",\n",
    "    \"Idaho\": \"ID\",\n",
    "    \"Illinois\": \"IL\",\n",
    "    \"Indiana\": \"IN\",\n",
    "    \"Iowa\": \"IA\",\n",
    "    \"Kansas\": \"KS\",\n",
    "    \"Kentucky\": \"KY\",\n",
    "    \"Louisiana\": \"LA\",\n",
    "    \"Maine\": \"ME\",\n",
    "    \"Maryland\": \"MD\",\n",
    "    \"Massachusetts\": \"MA\",\n",
    "    \"Michigan\": \"MI\",\n",
    "    \"Minnesota\": \"MN\",\n",
    "    \"Mississippi\": \"MS\",\n",
    "    \"Missouri\": \"MO\",\n",
    "    \"Montana\": \"MT\",\n",
    "    \"Nebraska\": \"NE\",\n",
    "    \"Nevada\": \"NV\",\n",
    "    \"New Hampshire\": \"NH\",\n",
    "    \"New Jersey\": \"NJ\",\n",
    "    \"New Mexico\": \"NM\",\n",
    "    \"New York\": \"NY\",\n",
    "    \"North Carolina\": \"NC\",\n",
    "    \"North Dakota\": \"ND\",\n",
    "    \"Ohio\": \"OH\",\n",
    "    \"Oklahoma\": \"OK\",\n",
    "    \"Oregon\": \"OR\",\n",
    "    \"Pennsylvania\": \"PA\",\n",
    "    \"Rhode Island\": \"RI\",\n",
    "    \"South Carolina\": \"SC\",\n",
    "    \"South Dakota\": \"SD\",\n",
    "    \"Tennessee\": \"TN\",\n",
    "    \"Texas\": \"TX\",\n",
    "    \"Utah\": \"UT\",\n",
    "    \"Vermont\": \"VT\",\n",
    "    \"Virginia\": \"VA\",\n",
    "    \"Washington\": \"WA\",\n",
    "    \"West Virginia\": \"WV\",\n",
    "    \"Wisconsin\": \"WI\",\n",
    "    \"Wyoming\": \"WY\",\n",
    "    \"District of Columbia\": \"DC\",\n",
    "    \"American Samoa\": \"AS\",\n",
    "    \"Guam\": \"GU\",\n",
    "    \"Northern Mariana Islands\": \"MP\",\n",
    "    \"Puerto Rico\": \"PR\",\n",
    "    \"United States Minor Outlying Islands\": \"UM\",\n",
    "    \"U.S. Virgin Islands\": \"VI\",\n",
    "    \"US\": \"US\"\n",
    "}"
   ]
  },
  {
   "cell_type": "code",
   "execution_count": null,
   "metadata": {},
   "outputs": [],
   "source": [
    "def swapStateAbbrev(state):\n",
    "    state = us_state_to_abbrev.get(state)\n",
    "    return state"
   ]
  },
  {
   "cell_type": "code",
   "execution_count": null,
   "metadata": {},
   "outputs": [],
   "source": [
    "swapStateAbbrev(\"Wisconsin\")"
   ]
  },
  {
   "cell_type": "markdown",
   "metadata": {
    "id": "Gw__Ve8oxK1_"
   },
   "source": [
    "## pylegiscan\n",
    "\n",
    "To talk to LegiScan's API, we're borrowing some code from [pylegiscan](https://github.com/poliquin/pylegiscan). Since it isn't a package you can install with `pip`, it wound up being easier for distribution to just cut and paste it here."
   ]
  },
  {
   "cell_type": "code",
   "execution_count": null,
   "metadata": {
    "id": "cKW9dPNHxK1_"
   },
   "outputs": [],
   "source": [
    "# Taken from https://github.com/poliquin/pylegiscan/blob/master/pylegiscan/legiscan.py\n",
    "\n",
    "# import os — we already imported these above\n",
    "# import json\n",
    "# import requests\n",
    "from urllib.parse import urlencode\n",
    "from urllib.parse import quote_plus\n",
    "\n",
    "# current aggregate status of bill\n",
    "BILL_STATUS = {1: \"Introduced\",\n",
    "               2: \"Engrossed\",\n",
    "               3: \"Enrolled\",\n",
    "               4: \"Passed\",\n",
    "               5: \"Vetoed\",\n",
    "               6: \"Failed/Dead\"}\n",
    "\n",
    "# significant steps in bill progress.\n",
    "BILL_PROGRESS = {1: \"Introduced\",\n",
    "                 2: \"Engrossed\",\n",
    "                 3: \"Enrolled\",\n",
    "                 4: \"Passed\",\n",
    "                 5: \"Vetoed\",\n",
    "                 6: \"Failed/Dead\",\n",
    "                 7: \"Veto Override\",\n",
    "                 8: \"Chapter/Act/Statute\",\n",
    "                 9: \"Committee Referral\",\n",
    "                10: \"Committee Report Pass\",\n",
    "                11: \"Committee Report DNP\"}\n",
    "\n",
    "\n",
    "\"\"\"\n",
    "Interact with LegiScan API.\n",
    "\n",
    "\"\"\"\n",
    "\n",
    "# a helpful list of valid legiscan state abbreviations (no Puerto Rico)\n",
    "STATES = ['ak', 'al', 'ar', 'az', 'ca', 'co', 'ct', 'dc', 'de', 'fl', 'ga',\n",
    "          'hi', 'ia', 'id', 'il', 'in', 'ks', 'ky', 'la', 'ma', 'md', 'me',\n",
    "          'mi', 'mn', 'mo', 'ms', 'mt', 'nc', 'nd', 'ne', 'nh', 'nj', 'nm',\n",
    "          'nv', 'ny', 'oh', 'ok', 'or', 'pa', 'ri', 'sc', 'sd', 'tn', 'tx',\n",
    "          'ut', 'va', 'vt', 'wa', 'wi', 'wv', 'wy']\n",
    "\n",
    "class LegiScanError(Exception):\n",
    "    pass\n",
    "\n",
    "class LegiScan(object):\n",
    "    BASE_URL = 'http://api.legiscan.com/?key={0}&op={1}&{2}'\n",
    "\n",
    "    def __init__(self, apikey=None):\n",
    "        \"\"\"LegiScan API.  State parameters should always be passed as\n",
    "           USPS abbreviations.  Bill numbers and abbreviations are case\n",
    "           insensitive.  Register for API at http://legiscan.com/legiscan\n",
    "        \"\"\"\n",
    "        # see if API key available as environment variable\n",
    "        if apikey is None:\n",
    "            apikey = config.LEGISCAN_API_KEY\n",
    "        self.key = apikey.strip()\n",
    "\n",
    "    def _url(self, operation, params=None):\n",
    "        \"\"\"Build a URL for querying the API.\"\"\"\n",
    "        if not isinstance(params, str) and params is not None:\n",
    "            params = urlencode(params)\n",
    "        elif params is None:\n",
    "            params = ''\n",
    "        return self.BASE_URL.format(self.key, operation, params)\n",
    "\n",
    "    def _get(self, url):\n",
    "        \"\"\"Get and parse JSON from API for a url.\"\"\"\n",
    "        req = requests.get(url)\n",
    "        if not req.ok:\n",
    "            raise LegiScanError('Request returned {0}: {1}'\\\n",
    "                    .format(req.status_code, url))\n",
    "        data = json.loads(req.content)\n",
    "        if data['status'] == \"ERROR\":\n",
    "            raise LegiScanError(data['alert']['message'])\n",
    "        return data\n",
    "\n",
    "    def get_session_list(self, state):\n",
    "        \"\"\"Get list of available sessions for a state.\"\"\"\n",
    "        url = self._url('getSessionList', {'state': state})\n",
    "        data = self._get(url)\n",
    "        return data['sessions']\n",
    "\n",
    "    def get_dataset_list(self, state=None, year=None):\n",
    "        \"\"\"Get list of available datasets, with optional state and year filtering.\n",
    "        \"\"\"\n",
    "        if state is not None:\n",
    "            url = self._url('getDatasetList', {'state': state})\n",
    "        elif year is not None:\n",
    "            url = self._url('getDatasetList', {'year': year})\n",
    "        else:\n",
    "            url = self._url('getDatasetList')\n",
    "        data = self._get(url)\n",
    "        # return a list of the bills\n",
    "        return data['datasetlist']\n",
    "\n",
    "    def get_dataset(self, id, access_key):\n",
    "        \"\"\"Get list of available datasets, with optional state and year filtering.\n",
    "        \"\"\"\n",
    "        url = self._url('getDataset', {'id': id, 'access_key': access_key})\n",
    "        data = self._get(url)\n",
    "        # return a list of the bills\n",
    "        return data['dataset']\n",
    "      \n",
    "    def get_master_list(self, state=None, session_id=None):\n",
    "        \"\"\"Get list of bills for the current session in a state or for\n",
    "           a given session identifier.\n",
    "        \"\"\"\n",
    "        if state is not None:\n",
    "            url = self._url('getMasterList', {'state': state})\n",
    "        elif session_id is not None:\n",
    "            url = self._url('getMasterList', {'id': session_id})\n",
    "        else:\n",
    "            raise ValueError('Must specify session identifier or state.')\n",
    "        data = self._get(url)\n",
    "        # return a list of the bills\n",
    "        return [data['masterlist'][i] for i in data['masterlist']]\n",
    "\n",
    "    def get_bill(self, bill_id=None, state=None, bill_number=None):\n",
    "        \"\"\"Get primary bill detail information including sponsors, committee\n",
    "           references, full history, bill text, and roll call information.\n",
    "\n",
    "           This function expects either a bill identifier or a state and bill\n",
    "           number combination.  The bill identifier is preferred, and required\n",
    "           for fetching bills from prior sessions.\n",
    "        \"\"\"\n",
    "        if bill_id is not None:\n",
    "            url = self._url('getBill', {'id': bill_id})\n",
    "        elif state is not None and bill_number is not None:\n",
    "            url = self._url('getBill', {'state': state, 'bill': bill_number})\n",
    "        else:\n",
    "            raise ValueError('Must specify bill_id or state and bill_number.')\n",
    "        return self._get(url)['bill']\n",
    "\n",
    "    def get_bill_text(self, doc_id):\n",
    "        \"\"\"Get bill text, including date, draft revision information, and\n",
    "           MIME type.  Bill text is base64 encoded to allow for PDF and Word\n",
    "           data transfers.\n",
    "        \"\"\"\n",
    "        url = self._url('getBillText', {'id': doc_id})\n",
    "        return self._get(url)['text']\n",
    "\n",
    "    def get_amendment(self, amendment_id):\n",
    "        \"\"\"Get amendment text including date, adoption status, MIME type, and\n",
    "           title/description information.  The amendment text is base64 encoded\n",
    "           to allow for PDF and Word data transfer.\n",
    "        \"\"\"\n",
    "        url = self._url('getAmendment', {'id': amendment_id})\n",
    "        return self._get(url)['amendment']\n",
    "\n",
    "    def get_supplement(self, supplement_id):\n",
    "        \"\"\"Get supplement text including type of supplement, date, MIME type\n",
    "           and text/description information.  Supplement text is base64 encoded\n",
    "           to allow for PDF and Word data transfer.\n",
    "        \"\"\"\n",
    "        url = self._url('getSupplement', {'id': supplement_id})\n",
    "        return self._get(url)['supplement']\n",
    "\n",
    "    def get_roll_call(self, roll_call_id):\n",
    "        \"\"\"Roll call detail for individual votes and summary information.\"\"\"\n",
    "        data = self._get(self._url('getRollcall', {'id': roll_call_id}))\n",
    "        return data['roll_call']\n",
    "\n",
    "    def get_sponsor(self, people_id):\n",
    "        \"\"\"Sponsor information including name, role, and a followthemoney.org\n",
    "           person identifier.\n",
    "        \"\"\"\n",
    "        url = self._url('getSponsor', {'id': people_id})\n",
    "        return self._get(url)['person']\n",
    "\n",
    "    def search(self, state, bill_number=None, query=None, year=2, page=1):\n",
    "        \"\"\"Get a page of results for a search against the LegiScan full text\n",
    "           engine; returns a paginated result set.\n",
    "\n",
    "           Specify a bill number or a query string.  Year can be an exact year\n",
    "           or a number between 1 and 4, inclusive.  These integers have the\n",
    "           following meanings:\n",
    "               1 = all years\n",
    "               2 = current year, the default\n",
    "               3 = recent years\n",
    "               4 = prior years\n",
    "           Page is the result set page number to return.\n",
    "        \"\"\"\n",
    "        if bill_number is not None:\n",
    "            params = {'state': state, 'bill': bill_number}\n",
    "        elif query is not None:\n",
    "            params = {'state': state, 'query': query,\n",
    "                      'year': year, 'page': page}\n",
    "        else:\n",
    "            raise ValueError('Must specify bill_number or query')\n",
    "        data = self._get(self._url('search', params))['searchresult']\n",
    "        # return a summary of the search and the results as a dictionary\n",
    "        summary = data.pop('summary')\n",
    "        results = {'summary': summary, 'results': [data[i] for i in data]}\n",
    "        return results\n",
    "\n",
    "    def __str__(self):\n",
    "        return '<LegiScan API {0}>'.format(self.key)\n",
    "\n",
    "    def __repr__(self):\n",
    "        return str(self)"
   ]
  },
  {
   "cell_type": "markdown",
   "metadata": {
    "id": "rCYYTGAwxK2B"
   },
   "source": [
    "# Connect to LegiScan\n",
    "\n",
    "Using pylegiscan, you just pass your API key to `LegiScan` and you're good to go. I set up an environment variable for mine."
   ]
  },
  {
   "cell_type": "code",
   "execution_count": null,
   "metadata": {
    "id": "IrrTxa7kxK2B"
   },
   "outputs": [],
   "source": [
    "import config\n",
    "\n",
    "api_key = config.LEGISCAN_API_KEY\n",
    "legis = LegiScan(api_key)"
   ]
  },
  {
   "cell_type": "markdown",
   "metadata": {},
   "source": [
    "# Read in my anti-trans bills csv\n",
    "Downloaded from [LegiAlerts.com](LegiAlerts.com) on February 25, 2023. There are more bills now."
   ]
  },
  {
   "cell_type": "code",
   "execution_count": null,
   "metadata": {},
   "outputs": [],
   "source": [
    "df = pd.read_csv('anti-lgbtq-bills-tracker.csv', usecols=['State','Number','URL'])"
   ]
  },
  {
   "cell_type": "code",
   "execution_count": null,
   "metadata": {},
   "outputs": [],
   "source": [
    "df['Abbreviation'] = df.loc[:,'State']"
   ]
  },
  {
   "cell_type": "code",
   "execution_count": null,
   "metadata": {},
   "outputs": [],
   "source": [
    "df = df.reindex(columns=['State','Abbreviation', 'Number', 'URL'])\n",
    "df.head()"
   ]
  },
  {
   "cell_type": "code",
   "execution_count": null,
   "metadata": {
    "scrolled": true
   },
   "outputs": [],
   "source": [
    "df['Abbreviation'] = df['Abbreviation'].map(swapStateAbbrev)\n",
    "df.head()"
   ]
  },
  {
   "cell_type": "code",
   "execution_count": null,
   "metadata": {},
   "outputs": [],
   "source": [
    "df.to_csv('anti-lgbtq-bills-abbrevs-tracker.csv')"
   ]
  },
  {
   "cell_type": "code",
   "execution_count": null,
   "metadata": {},
   "outputs": [],
   "source": [
    "df['Bill ID'] = ''\n",
    "df['Bill Text'] = ''\n",
    "df.head()"
   ]
  },
  {
   "cell_type": "markdown",
   "metadata": {},
   "source": [
    "---\n",
    "# Get the bill IDs from state data\n",
    "1. Look at the state abbreviation\n",
    "2. Open and load the corresponding filepath to the JSON\n",
    "3. Find the bill ID\n",
    "4. Add it in this df"
   ]
  },
  {
   "cell_type": "markdown",
   "metadata": {},
   "source": [
    "## Get bill ID for one bill"
   ]
  },
  {
   "cell_type": "code",
   "execution_count": null,
   "metadata": {},
   "outputs": [],
   "source": [
    "abbrv = df['Abbreviation'][0]\n",
    "billnum = df['Number'][0]"
   ]
  },
  {
   "cell_type": "code",
   "execution_count": null,
   "metadata": {},
   "outputs": [],
   "source": [
    "abbrv"
   ]
  },
  {
   "cell_type": "code",
   "execution_count": null,
   "metadata": {},
   "outputs": [],
   "source": [
    "billnum"
   ]
  },
  {
   "cell_type": "code",
   "execution_count": null,
   "metadata": {
    "scrolled": true
   },
   "outputs": [],
   "source": [
    "filepath = f\"/Users/gabriel/Documents/GitHub/legiscan/azcentral-text-reuse-model-legislation/notebooks/20230224-legiscan-JSONs/{abbrv}/bill/{billnum}.json\"\n",
    "data = json.load(open(filepath))\n",
    "data"
   ]
  },
  {
   "cell_type": "code",
   "execution_count": null,
   "metadata": {},
   "outputs": [],
   "source": [
    "data['bill']['texts'][0]['doc_id']"
   ]
  },
  {
   "cell_type": "markdown",
   "metadata": {},
   "source": [
    "## Get bill ID for all bills\n",
    "SUCCESS! Exported to CSV."
   ]
  },
  {
   "cell_type": "code",
   "execution_count": null,
   "metadata": {},
   "outputs": [],
   "source": [
    "df = pd.read_csv('anti-lgbtq-bills-abbrevs-tracker.csv', usecols=['State','Abbreviation','Number','URL','Bill ID','Bill Text'])"
   ]
  },
  {
   "cell_type": "code",
   "execution_count": null,
   "metadata": {},
   "outputs": [],
   "source": [
    "df.head()"
   ]
  },
  {
   "cell_type": "code",
   "execution_count": null,
   "metadata": {},
   "outputs": [],
   "source": [
    "def getbillid(abbrv, billnum):\n",
    "    filepath = f\"/Users/gabriel/Documents/GitHub/legiscan/azcentral-text-reuse-model-legislation/notebooks/20230224-legiscan-JSONs/{abbrv}/bill/{billnum}.json\"\n",
    "    data = json.load(open(filepath))\n",
    "    return data['bill']['bill_id']\n",
    "df['Bill ID'] = df.apply(lambda row: getbillid(row['Abbreviation'],row['Number']), axis=1)"
   ]
  },
  {
   "cell_type": "code",
   "execution_count": null,
   "metadata": {},
   "outputs": [],
   "source": [
    "df.head()"
   ]
  },
  {
   "cell_type": "code",
   "execution_count": null,
   "metadata": {},
   "outputs": [],
   "source": [
    "df.to_csv('anti-lgbtq-bills-abbrevs-tracker.csv')"
   ]
  },
  {
   "cell_type": "markdown",
   "metadata": {},
   "source": [
    "---\n",
    "# Get doc ID for one bill\n"
   ]
  },
  {
   "cell_type": "code",
   "execution_count": null,
   "metadata": {},
   "outputs": [],
   "source": [
    "abbrv = df['Abbreviation'][2]\n",
    "billnum = df['Number'][2]\n",
    "filepath = f\"/Users/gabriel/Documents/GitHub/legiscan/azcentral-text-reuse-model-legislation/notebooks/20230224-legiscan-JSONs/{abbrv}/bill/{billnum}.json\"\n",
    "data = json.load(open(filepath))\n",
    "data['bill']['texts'][0]['doc_id']"
   ]
  },
  {
   "cell_type": "markdown",
   "metadata": {},
   "source": [
    "---\n",
    "# Get doc IDs for all bills"
   ]
  },
  {
   "cell_type": "code",
   "execution_count": null,
   "metadata": {},
   "outputs": [],
   "source": [
    "dfbackup = df"
   ]
  },
  {
   "cell_type": "code",
   "execution_count": null,
   "metadata": {},
   "outputs": [],
   "source": [
    "df.to_csv('anti-lgbtq-bills-abbrevs-tracker.csv')"
   ]
  },
  {
   "cell_type": "code",
   "execution_count": null,
   "metadata": {
    "scrolled": false
   },
   "outputs": [],
   "source": [
    "data['bill']['texts'][0]['doc_id']"
   ]
  },
  {
   "cell_type": "code",
   "execution_count": null,
   "metadata": {},
   "outputs": [],
   "source": [
    "df['Doc ID'] = ''"
   ]
  },
  {
   "cell_type": "code",
   "execution_count": null,
   "metadata": {},
   "outputs": [],
   "source": [
    "def getdocid(abbrv, billnum):\n",
    "    filepath = f\"/Users/gabriel/Documents/GitHub/legiscan/azcentral-text-reuse-model-legislation/notebooks/20230224-legiscan-JSONs/{abbrv}/bill/{billnum}.json\"\n",
    "    data = json.load(open(filepath))\n",
    "    try:\n",
    "        print(abbrv, billnum, data['bill']['texts'][0]['doc_id'])\n",
    "        return int(data['bill']['texts'][0]['doc_id'])\n",
    "    except:\n",
    "        print(abbrv, billnum, \"doc_id not found\")        \n",
    "        return None\n",
    "df['Doc ID'] = df.apply(lambda row: getdocid(row['Abbreviation'],row['Number']), axis=1)"
   ]
  },
  {
   "cell_type": "code",
   "execution_count": null,
   "metadata": {},
   "outputs": [],
   "source": [
    "df.head()"
   ]
  },
  {
   "cell_type": "code",
   "execution_count": null,
   "metadata": {},
   "outputs": [],
   "source": [
    "df.to_csv('anti-lgbtq-bills-abbrevs-docids-tracker.csv')\n",
    "dfbackup = df"
   ]
  },
  {
   "cell_type": "markdown",
   "metadata": {},
   "source": [
    "---\n",
    "# Get bill text for all bills\n",
    "For some reason they come in base64 format, so I decode these in another notebook."
   ]
  },
  {
   "cell_type": "code",
   "execution_count": null,
   "metadata": {},
   "outputs": [],
   "source": [
    "def getbilltext(abbrv, doc_id):\n",
    "    try:\n",
    "        docid = int(doc_id)\n",
    "        billtextinfo = legis.get_bill_text(docid)\n",
    "        print(billtextinfo)\n",
    "        return billtextinfo\n",
    "    except:\n",
    "        print('failure')\n",
    "        return None\n",
    "    print(abbrv, \" \", int(doc_id))"
   ]
  },
  {
   "cell_type": "code",
   "execution_count": null,
   "metadata": {
    "scrolled": true
   },
   "outputs": [],
   "source": [
    "getbilltext(df['Abbreviation'][1], df['Doc ID'][1])"
   ]
  },
  {
   "cell_type": "code",
   "execution_count": null,
   "metadata": {},
   "outputs": [],
   "source": [
    "legis.get_bill(bill_id=df['Bill ID'][0])"
   ]
  },
  {
   "cell_type": "code",
   "execution_count": null,
   "metadata": {},
   "outputs": [],
   "source": [
    "id = int(df['Doc ID'][57])"
   ]
  },
  {
   "cell_type": "code",
   "execution_count": null,
   "metadata": {},
   "outputs": [],
   "source": [
    "id"
   ]
  },
  {
   "cell_type": "code",
   "execution_count": null,
   "metadata": {},
   "outputs": [],
   "source": [
    "2674851"
   ]
  },
  {
   "cell_type": "code",
   "execution_count": null,
   "metadata": {},
   "outputs": [],
   "source": [
    "# Only works to get doc when doc_id is an int. God knows why\n",
    "legis.get_bill_text(id)"
   ]
  },
  {
   "cell_type": "code",
   "execution_count": null,
   "metadata": {},
   "outputs": [],
   "source": [
    "df['Bill Text Info'] = df.apply(lambda row: getbilltext(row['Abbreviation'],row['Doc ID']), axis=1)"
   ]
  },
  {
   "cell_type": "code",
   "execution_count": null,
   "metadata": {},
   "outputs": [],
   "source": [
    "dfbackup = df"
   ]
  },
  {
   "cell_type": "code",
   "execution_count": null,
   "metadata": {},
   "outputs": [],
   "source": [
    "df.to_csv('anti-lgbtq-bills-abbrevs-docids-billinfo-tracker.csv')"
   ]
  }
 ],
 "metadata": {
  "kernelspec": {
   "display_name": "Python 3 (ipykernel)",
   "language": "python",
   "name": "python3"
  },
  "language_info": {
   "codemirror_mode": {
    "name": "ipython",
    "version": 3
   },
   "file_extension": ".py",
   "mimetype": "text/x-python",
   "name": "python",
   "nbconvert_exporter": "python",
   "pygments_lexer": "ipython3",
   "version": "3.9.13"
  }
 },
 "nbformat": 4,
 "nbformat_minor": 2
}
