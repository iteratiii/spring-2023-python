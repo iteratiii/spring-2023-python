{
 "cells": [
  {
   "cell_type": "code",
   "execution_count": 1,
   "id": "02a3785b",
   "metadata": {},
   "outputs": [],
   "source": [
    "import re"
   ]
  },
  {
   "cell_type": "code",
   "execution_count": 19,
   "id": "697e4fc7",
   "metadata": {},
   "outputs": [],
   "source": [
    "text = \"call my phone at 646-666-1234!\""
   ]
  },
  {
   "cell_type": "code",
   "execution_count": 3,
   "id": "65619665",
   "metadata": {},
   "outputs": [],
   "source": [
    "pattern = \"phone\""
   ]
  },
  {
   "cell_type": "code",
   "execution_count": 5,
   "id": "4cdaa143",
   "metadata": {},
   "outputs": [],
   "source": [
    "match = re.search(pattern,text)"
   ]
  },
  {
   "cell_type": "code",
   "execution_count": 6,
   "id": "a1139a7e",
   "metadata": {},
   "outputs": [
    {
     "data": {
      "text/plain": [
       "(8, 13)"
      ]
     },
     "execution_count": 6,
     "metadata": {},
     "output_type": "execute_result"
    }
   ],
   "source": [
    "match.span()"
   ]
  },
  {
   "cell_type": "code",
   "execution_count": 17,
   "id": "febf4ba6",
   "metadata": {},
   "outputs": [
    {
     "data": {
      "text/plain": [
       "'phone'"
      ]
     },
     "execution_count": 17,
     "metadata": {},
     "output_type": "execute_result"
    }
   ],
   "source": [
    "match.group()"
   ]
  },
  {
   "cell_type": "code",
   "execution_count": 7,
   "id": "ce3ee8f6",
   "metadata": {},
   "outputs": [],
   "source": [
    "text=\"phone my phone your phone everyone's phone hello\""
   ]
  },
  {
   "cell_type": "code",
   "execution_count": 9,
   "id": "d64df600",
   "metadata": {},
   "outputs": [
    {
     "data": {
      "text/plain": [
       "<re.Match object; span=(0, 5), match='phone'>"
      ]
     },
     "execution_count": 9,
     "metadata": {},
     "output_type": "execute_result"
    }
   ],
   "source": [
    "# only gives first instance of it appearing\n",
    "re.search(pattern, text)"
   ]
  },
  {
   "cell_type": "code",
   "execution_count": 11,
   "id": "6468ac91",
   "metadata": {},
   "outputs": [],
   "source": [
    "matches = re.findall(\"phone\", text)"
   ]
  },
  {
   "cell_type": "code",
   "execution_count": 12,
   "id": "5371ab17",
   "metadata": {
    "scrolled": true
   },
   "outputs": [
    {
     "data": {
      "text/plain": [
       "['phone', 'phone', 'phone', 'phone']"
      ]
     },
     "execution_count": 12,
     "metadata": {},
     "output_type": "execute_result"
    }
   ],
   "source": [
    "matches"
   ]
  },
  {
   "cell_type": "code",
   "execution_count": 20,
   "id": "b197b36f",
   "metadata": {},
   "outputs": [],
   "source": [
    "text = \"call my phone at 646-666-1234!\""
   ]
  },
  {
   "cell_type": "code",
   "execution_count": 32,
   "id": "233b266b",
   "metadata": {},
   "outputs": [
    {
     "data": {
      "text/plain": [
       "<re.Match object; span=(17, 29), match='646-666-1234'>"
      ]
     },
     "execution_count": 32,
     "metadata": {},
     "output_type": "execute_result"
    }
   ],
   "source": [
    "re.search(r'\\d\\d\\d-\\d\\d\\d-\\d\\d\\d\\d',text)"
   ]
  },
  {
   "cell_type": "code",
   "execution_count": 34,
   "id": "0ad77ca7",
   "metadata": {},
   "outputs": [],
   "source": [
    "re.search(r'\\d{3}-\\d{4}-\\d{4}!', text)"
   ]
  },
  {
   "cell_type": "code",
   "execution_count": 30,
   "id": "dfad7004",
   "metadata": {},
   "outputs": [
    {
     "data": {
      "text/plain": [
       "<re.Match object; span=(8, 12), match='cell'>"
      ]
     },
     "execution_count": 30,
     "metadata": {},
     "output_type": "execute_result"
    }
   ],
   "source": [
    "re.search(r\"cell|phone\",\"call my cell at 29849849242\")"
   ]
  },
  {
   "cell_type": "code",
   "execution_count": 36,
   "id": "7f96490e",
   "metadata": {},
   "outputs": [
    {
     "data": {
      "text/plain": [
       "['i am', ' ham']"
      ]
     },
     "execution_count": 36,
     "metadata": {},
     "output_type": "execute_result"
    }
   ],
   "source": [
    "re.findall(r\"..am\",\"sam i am green eggs and ham\")"
   ]
  },
  {
   "cell_type": "code",
   "execution_count": 41,
   "id": "3d0da746",
   "metadata": {},
   "outputs": [
    {
     "data": {
      "text/plain": [
       "['Sam', 'ham']"
      ]
     },
     "execution_count": 41,
     "metadata": {},
     "output_type": "execute_result"
    }
   ],
   "source": [
    "re.findall(r\"\\S+am\",\"Sam i am green eggs and ham\")"
   ]
  },
  {
   "cell_type": "code",
   "execution_count": 42,
   "id": "5f68c387",
   "metadata": {},
   "outputs": [],
   "source": [
    "sentence = \"what a load of %@%$@. That is weird, right?!\""
   ]
  }
 ],
 "metadata": {
  "kernelspec": {
   "display_name": "Python 3 (ipykernel)",
   "language": "python",
   "name": "python3"
  },
  "language_info": {
   "codemirror_mode": {
    "name": "ipython",
    "version": 3
   },
   "file_extension": ".py",
   "mimetype": "text/x-python",
   "name": "python",
   "nbconvert_exporter": "python",
   "pygments_lexer": "ipython3",
   "version": "3.9.13"
  }
 },
 "nbformat": 4,
 "nbformat_minor": 5
}
