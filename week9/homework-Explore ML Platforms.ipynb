{
 "cells": [
  {
   "cell_type": "markdown",
   "id": "2cd4c9a2",
   "metadata": {},
   "source": [
    "# Play with RunwayML, PlayformIO, Midjourney, Dall-e\n",
    "Document your findings."
   ]
  },
  {
   "cell_type": "markdown",
   "id": "daf99ea6",
   "metadata": {},
   "source": [
    "## Dall-E\n",
    "I asked Dall-E to fill in a little of Manet's _A Bar at the Folies-Bergère_. Not the best result.\n",
    "![image info](./explorations/dallemanet.png)\n",
    "\n",
    "Last semester, I also asked it for “young man hanging over anemone with cilia and tentacles in the style of ernst haeckel” and “young man susbended by tentacles over huge anemone in the style of ernst haeckel”\n",
    " as part of a zine about erotica and machine learning called [Innocence](./explorations/Innocence.pdf). Here's my favorite variations on that prompt, which appear in the zine:\n",
    "\n",
    "![image info](./explorations/Innocence.jpg)\n",
    "![image info](./explorations/Innocence12.jpg)\n",
    "![image info](./explorations/Innocence13.jpg)\n",
    "![image info](./explorations/Innocence14.jpg)\n",
    "![image info](./explorations/Innocence15.jpg)\n",
    "![image info](./explorations/Innocence16.jpg)"
   ]
  },
  {
   "cell_type": "code",
   "execution_count": null,
   "id": "1cef98d9",
   "metadata": {},
   "outputs": [],
   "source": []
  },
  {
   "cell_type": "code",
   "execution_count": null,
   "id": "4ca5f89e",
   "metadata": {},
   "outputs": [],
   "source": []
  },
  {
   "cell_type": "code",
   "execution_count": null,
   "id": "96467597",
   "metadata": {},
   "outputs": [],
   "source": []
  },
  {
   "cell_type": "code",
   "execution_count": null,
   "id": "54151a72",
   "metadata": {},
   "outputs": [],
   "source": []
  }
 ],
 "metadata": {
  "kernelspec": {
   "display_name": "Python 3 (ipykernel)",
   "language": "python",
   "name": "python3"
  },
  "language_info": {
   "codemirror_mode": {
    "name": "ipython",
    "version": 3
   },
   "file_extension": ".py",
   "mimetype": "text/x-python",
   "name": "python",
   "nbconvert_exporter": "python",
   "pygments_lexer": "ipython3",
   "version": "3.9.13"
  }
 },
 "nbformat": 4,
 "nbformat_minor": 5
}
