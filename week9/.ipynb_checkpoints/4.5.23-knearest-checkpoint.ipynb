{
 "cells": [
  {
   "cell_type": "code",
   "execution_count": null,
   "id": "12bbfb52",
   "metadata": {},
   "outputs": [],
   "source": [
    "# keras is a lighter version of tensorflow\n",
    "# stack is for processing images\n",
    "# loading in model and printing summary\n",
    "# tells you about the training data\n",
    "# need a folder called metimages\n",
    "# import glob (how a machine reads an image)\n",
    "# feature extraction: turn image into number array so computer can understand\n",
    "# plot data into a chart\n",
    "# organize them by similarity"
   ]
  }
 ],
 "metadata": {
  "kernelspec": {
   "display_name": "Python 3 (ipykernel)",
   "language": "python",
   "name": "python3"
  },
  "language_info": {
   "codemirror_mode": {
    "name": "ipython",
    "version": 3
   },
   "file_extension": ".py",
   "mimetype": "text/x-python",
   "name": "python",
   "nbconvert_exporter": "python",
   "pygments_lexer": "ipython3",
   "version": "3.9.13"
  }
 },
 "nbformat": 4,
 "nbformat_minor": 5
}
